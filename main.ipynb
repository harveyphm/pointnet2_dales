{
 "cells": [
  {
   "cell_type": "code",
   "execution_count": 1,
   "id": "e2efa875-7897-4d1b-a54c-4db96ad21f77",
   "metadata": {
    "execution": {
     "iopub.execute_input": "2024-04-28T18:03:57.716688Z",
     "iopub.status.busy": "2024-04-28T18:03:57.716247Z",
     "iopub.status.idle": "2024-04-28T18:03:57.723114Z",
     "shell.execute_reply": "2024-04-28T18:03:57.721850Z",
     "shell.execute_reply.started": "2024-04-28T18:03:57.716649Z"
    }
   },
   "outputs": [],
   "source": [
    "# !tar -xvzf dataset.tar.gzb\n",
    "# !unzip dales_las.zip\n",
    "# !unzip dales_tiled.zip"
   ]
  },
  {
   "cell_type": "code",
   "execution_count": 1,
   "id": "5403fa81-608c-4b08-8c95-b7f52726f66f",
   "metadata": {
    "execution": {
     "iopub.execute_input": "2024-05-02T14:25:12.876137Z",
     "iopub.status.busy": "2024-05-02T14:25:12.875524Z",
     "iopub.status.idle": "2024-05-02T14:28:19.099788Z",
     "shell.execute_reply": "2024-05-02T14:28:19.098329Z",
     "shell.execute_reply.started": "2024-05-02T14:25:12.876078Z"
    }
   },
   "outputs": [
    {
     "name": "stdout",
     "output_type": "stream",
     "text": [
      "Found existing installation: torch 1.13.1+cpu\n",
      "Uninstalling torch-1.13.1+cpu:\n",
      "  Successfully uninstalled torch-1.13.1+cpu\n",
      "\u001b[33mWARNING: Skipping torchvision as it is not installed.\u001b[0m\u001b[33m\n",
      "\u001b[0m\u001b[33mWARNING: Skipping torchaudio as it is not installed.\u001b[0m\u001b[33m\n",
      "\u001b[0mFound existing installation: torch-scatter 2.1.0+pt113cpu\n",
      "Uninstalling torch-scatter-2.1.0+pt113cpu:\n",
      "  Successfully uninstalled torch-scatter-2.1.0+pt113cpu\n",
      "Found existing installation: torch-sparse 0.6.16+pt113cpu\n",
      "Uninstalling torch-sparse-0.6.16+pt113cpu:\n",
      "  Successfully uninstalled torch-sparse-0.6.16+pt113cpu\n",
      "\u001b[33mWARNING: Skipping torch-cluster as it is not installed.\u001b[0m\u001b[33m\n",
      "\u001b[0m\u001b[33mWARNING: Running pip as the 'root' user can result in broken permissions and conflicting behaviour with the system package manager. It is recommended to use a virtual environment instead: https://pip.pypa.io/warnings/venv\u001b[0m\u001b[33m\n",
      "\u001b[0mLooking in indexes: https://download.pytorch.org/whl/cu121\n",
      "Collecting torch==2.2.1\n",
      "  Downloading https://download.pytorch.org/whl/cu121/torch-2.2.1%2Bcu121-cp38-cp38-linux_x86_64.whl (757.3 MB)\n",
      "\u001b[2K     \u001b[90m━━━━━━━━━━━━━━━━━━━━━━━━━━━━━━━━━━━━━━━\u001b[0m \u001b[32m757.3/757.3 MB\u001b[0m \u001b[31m1.9 MB/s\u001b[0m eta \u001b[36m0:00:00\u001b[0m00:01\u001b[0m00:01\u001b[0m\n",
      "\u001b[?25hCollecting torchvision==0.17.1\n",
      "  Downloading https://download.pytorch.org/whl/cu121/torchvision-0.17.1%2Bcu121-cp38-cp38-linux_x86_64.whl (7.0 MB)\n",
      "\u001b[2K     \u001b[90m━━━━━━━━━━━━━━━━━━━━━━━━━━━━━━━━━━━━━━━━\u001b[0m \u001b[32m7.0/7.0 MB\u001b[0m \u001b[31m41.3 MB/s\u001b[0m eta \u001b[36m0:00:00\u001b[0m00:01\u001b[0m00:01\u001b[0m\n",
      "\u001b[?25hCollecting torchaudio==2.2.1\n",
      "  Downloading https://download.pytorch.org/whl/cu121/torchaudio-2.2.1%2Bcu121-cp38-cp38-linux_x86_64.whl (3.4 MB)\n",
      "\u001b[2K     \u001b[90m━━━━━━━━━━━━━━━━━━━━━━━━━━━━━━━━━━━━━━━━\u001b[0m \u001b[32m3.4/3.4 MB\u001b[0m \u001b[31m15.4 MB/s\u001b[0m eta \u001b[36m0:00:00\u001b[0m00:01\u001b[0m00:01\u001b[0m\n",
      "\u001b[?25hCollecting filelock (from torch==2.2.1)\n",
      "  Downloading https://download.pytorch.org/whl/filelock-3.13.1-py3-none-any.whl (11 kB)\n",
      "Collecting typing-extensions>=4.8.0 (from torch==2.2.1)\n",
      "  Downloading https://download.pytorch.org/whl/typing_extensions-4.9.0-py3-none-any.whl (32 kB)\n",
      "Collecting sympy (from torch==2.2.1)\n",
      "  Downloading https://download.pytorch.org/whl/sympy-1.12-py3-none-any.whl (5.7 MB)\n",
      "\u001b[2K     \u001b[90m━━━━━━━━━━━━━━━━━━━━━━━━━━━━━━━━━━━━━━━━\u001b[0m \u001b[32m5.7/5.7 MB\u001b[0m \u001b[31m55.6 MB/s\u001b[0m eta \u001b[36m0:00:00\u001b[0m00:01\u001b[0m:00:01\u001b[0m\n",
      "\u001b[?25hCollecting networkx (from torch==2.2.1)\n",
      "  Downloading https://download.pytorch.org/whl/networkx-3.2.1-py3-none-any.whl (1.6 MB)\n",
      "\u001b[2K     \u001b[90m━━━━━━━━━━━━━━━━━━━━━━━━━━━━━━━━━━━━━━━━\u001b[0m \u001b[32m1.6/1.6 MB\u001b[0m \u001b[31m57.8 MB/s\u001b[0m eta \u001b[36m0:00:00\u001b[0m\n",
      "\u001b[?25hRequirement already satisfied: jinja2 in /usr/local/lib/python3.8/dist-packages (from torch==2.2.1) (3.1.2)\n",
      "Collecting fsspec (from torch==2.2.1)\n",
      "  Downloading https://download.pytorch.org/whl/fsspec-2024.2.0-py3-none-any.whl (170 kB)\n",
      "\u001b[2K     \u001b[90m━━━━━━━━━━━━━━━━━━━━━━━━━━━━━━━━━━━━━━\u001b[0m \u001b[32m170.9/170.9 kB\u001b[0m \u001b[31m23.2 MB/s\u001b[0m eta \u001b[36m0:00:00\u001b[0m\n",
      "\u001b[?25hCollecting nvidia-cuda-nvrtc-cu12==12.1.105 (from torch==2.2.1)\n",
      "  Downloading https://download.pytorch.org/whl/cu121/nvidia_cuda_nvrtc_cu12-12.1.105-py3-none-manylinux1_x86_64.whl (23.7 MB)\n",
      "\u001b[2K     \u001b[90m━━━━━━━━━━━━━━━━━━━━━━━━━━━━━━━━━━━━━━━━\u001b[0m \u001b[32m23.7/23.7 MB\u001b[0m \u001b[31m32.1 MB/s\u001b[0m eta \u001b[36m0:00:00\u001b[0m00:01\u001b[0m00:01\u001b[0m\n",
      "\u001b[?25hCollecting nvidia-cuda-runtime-cu12==12.1.105 (from torch==2.2.1)\n",
      "  Downloading https://download.pytorch.org/whl/cu121/nvidia_cuda_runtime_cu12-12.1.105-py3-none-manylinux1_x86_64.whl (823 kB)\n",
      "\u001b[2K     \u001b[90m━━━━━━━━━━━━━━━━━━━━━━━━━━━━━━━━━━━━━━\u001b[0m \u001b[32m823.6/823.6 kB\u001b[0m \u001b[31m49.1 MB/s\u001b[0m eta \u001b[36m0:00:00\u001b[0m\n",
      "\u001b[?25hCollecting nvidia-cuda-cupti-cu12==12.1.105 (from torch==2.2.1)\n",
      "  Downloading https://download.pytorch.org/whl/cu121/nvidia_cuda_cupti_cu12-12.1.105-py3-none-manylinux1_x86_64.whl (14.1 MB)\n",
      "\u001b[2K     \u001b[90m━━━━━━━━━━━━━━━━━━━━━━━━━━━━━━━━━━━━━━━━\u001b[0m \u001b[32m14.1/14.1 MB\u001b[0m \u001b[31m48.0 MB/s\u001b[0m eta \u001b[36m0:00:00\u001b[0m00:01\u001b[0m00:01\u001b[0m\n",
      "\u001b[?25hCollecting nvidia-cudnn-cu12==8.9.2.26 (from torch==2.2.1)\n",
      "  Downloading https://download.pytorch.org/whl/cu121/nvidia_cudnn_cu12-8.9.2.26-py3-none-manylinux1_x86_64.whl (731.7 MB)\n",
      "\u001b[2K     \u001b[90m━━━━━━━━━━━━━━━━━━━━━━━━━━━━━━━━━━━━━━━\u001b[0m \u001b[32m731.7/731.7 MB\u001b[0m \u001b[31m2.0 MB/s\u001b[0m eta \u001b[36m0:00:00\u001b[0m00:01\u001b[0m00:01\u001b[0m\n",
      "\u001b[?25hCollecting nvidia-cublas-cu12==12.1.3.1 (from torch==2.2.1)\n",
      "  Downloading https://download.pytorch.org/whl/cu121/nvidia_cublas_cu12-12.1.3.1-py3-none-manylinux1_x86_64.whl (410.6 MB)\n",
      "\u001b[2K     \u001b[90m━━━━━━━━━━━━━━━━━━━━━━━━━━━━━━━━━━━━━━━\u001b[0m \u001b[32m410.6/410.6 MB\u001b[0m \u001b[31m3.8 MB/s\u001b[0m eta \u001b[36m0:00:00\u001b[0m00:01\u001b[0m00:01\u001b[0m\n",
      "\u001b[?25hCollecting nvidia-cufft-cu12==11.0.2.54 (from torch==2.2.1)\n",
      "  Downloading https://download.pytorch.org/whl/cu121/nvidia_cufft_cu12-11.0.2.54-py3-none-manylinux1_x86_64.whl (121.6 MB)\n",
      "\u001b[2K     \u001b[90m━━━━━━━━━━━━━━━━━━━━━━━━━━━━━━━━━━━━━━━\u001b[0m \u001b[32m121.6/121.6 MB\u001b[0m \u001b[31m9.7 MB/s\u001b[0m eta \u001b[36m0:00:00\u001b[0m00:01\u001b[0m00:01\u001b[0m\n",
      "\u001b[?25hCollecting nvidia-curand-cu12==10.3.2.106 (from torch==2.2.1)\n",
      "  Downloading https://download.pytorch.org/whl/cu121/nvidia_curand_cu12-10.3.2.106-py3-none-manylinux1_x86_64.whl (56.5 MB)\n",
      "\u001b[2K     \u001b[90m━━━━━━━━━━━━━━━━━━━━━━━━━━━━━━━━━━━━━━━━\u001b[0m \u001b[32m56.5/56.5 MB\u001b[0m \u001b[31m19.2 MB/s\u001b[0m eta \u001b[36m0:00:00\u001b[0m00:01\u001b[0m00:01\u001b[0m\n",
      "\u001b[?25hCollecting nvidia-cusolver-cu12==11.4.5.107 (from torch==2.2.1)\n",
      "  Downloading https://download.pytorch.org/whl/cu121/nvidia_cusolver_cu12-11.4.5.107-py3-none-manylinux1_x86_64.whl (124.2 MB)\n",
      "\u001b[2K     \u001b[90m━━━━━━━━━━━━━━━━━━━━━━━━━━━━━━━━━━━━━━\u001b[0m \u001b[32m124.2/124.2 MB\u001b[0m \u001b[31m10.1 MB/s\u001b[0m eta \u001b[36m0:00:00\u001b[0m00:01\u001b[0m00:01\u001b[0m\n",
      "\u001b[?25hCollecting nvidia-cusparse-cu12==12.1.0.106 (from torch==2.2.1)\n",
      "  Downloading https://download.pytorch.org/whl/cu121/nvidia_cusparse_cu12-12.1.0.106-py3-none-manylinux1_x86_64.whl (196.0 MB)\n",
      "\u001b[2K     \u001b[90m━━━━━━━━━━━━━━━━━━━━━━━━━━━━━━━━━━━━━━━\u001b[0m \u001b[32m196.0/196.0 MB\u001b[0m \u001b[31m8.0 MB/s\u001b[0m eta \u001b[36m0:00:00\u001b[0m00:01\u001b[0m00:01\u001b[0m\n",
      "\u001b[?25hCollecting nvidia-nccl-cu12==2.19.3 (from torch==2.2.1)\n",
      "  Downloading https://download.pytorch.org/whl/cu121/nvidia_nccl_cu12-2.19.3-py3-none-manylinux1_x86_64.whl (166.0 MB)\n",
      "\u001b[2K     \u001b[90m━━━━━━━━━━━━━━━━━━━━━━━━━━━━━━━━━━━━━━━\u001b[0m \u001b[32m166.0/166.0 MB\u001b[0m \u001b[31m7.6 MB/s\u001b[0m eta \u001b[36m0:00:00\u001b[0m00:01\u001b[0m00:01\u001b[0m\n",
      "\u001b[?25hCollecting nvidia-nvtx-cu12==12.1.105 (from torch==2.2.1)\n",
      "  Downloading https://download.pytorch.org/whl/cu121/nvidia_nvtx_cu12-12.1.105-py3-none-manylinux1_x86_64.whl (99 kB)\n",
      "\u001b[2K     \u001b[90m━━━━━━━━━━━━━━━━━━━━━━━━━━━━━━━━━━━━━━━━\u001b[0m \u001b[32m99.1/99.1 kB\u001b[0m \u001b[31m18.9 MB/s\u001b[0m eta \u001b[36m0:00:00\u001b[0m\n",
      "\u001b[?25hCollecting triton==2.2.0 (from torch==2.2.1)\n",
      "  Downloading https://download.pytorch.org/whl/triton-2.2.0-cp38-cp38-manylinux_2_17_x86_64.manylinux2014_x86_64.whl (167.9 MB)\n",
      "\u001b[2K     \u001b[90m━━━━━━━━━━━━━━━━━━━━━━━━━━━━━━━━━━━━━━━\u001b[0m \u001b[32m167.9/167.9 MB\u001b[0m \u001b[31m7.0 MB/s\u001b[0m eta \u001b[36m0:00:00\u001b[0m00:01\u001b[0m00:01\u001b[0m\n",
      "\u001b[?25hRequirement already satisfied: numpy in /usr/local/lib/python3.8/dist-packages (from torchvision==0.17.1) (1.24.3)\n",
      "Collecting pillow!=8.3.*,>=5.3.0 (from torchvision==0.17.1)\n",
      "  Downloading https://download.pytorch.org/whl/pillow-10.2.0-cp38-cp38-manylinux_2_28_x86_64.whl (4.5 MB)\n",
      "\u001b[2K     \u001b[90m━━━━━━━━━━━━━━━━━━━━━━━━━━━━━━━━━━━━━━━━\u001b[0m \u001b[32m4.5/4.5 MB\u001b[0m \u001b[31m39.9 MB/s\u001b[0m eta \u001b[36m0:00:00\u001b[0m00:01\u001b[0m00:01\u001b[0m\n",
      "\u001b[?25hCollecting nvidia-nvjitlink-cu12 (from nvidia-cusolver-cu12==11.4.5.107->torch==2.2.1)\n",
      "  Downloading https://download.pytorch.org/whl/cu121/nvidia_nvjitlink_cu12-12.1.105-py3-none-manylinux1_x86_64.whl (19.8 MB)\n",
      "\u001b[2K     \u001b[90m━━━━━━━━━━━━━━━━━━━━━━━━━━━━━━━━━━━━━━━━\u001b[0m \u001b[32m19.8/19.8 MB\u001b[0m \u001b[31m41.6 MB/s\u001b[0m eta \u001b[36m0:00:00\u001b[0m00:01\u001b[0m00:01\u001b[0m\n",
      "\u001b[?25hRequirement already satisfied: MarkupSafe>=2.0 in /usr/local/lib/python3.8/dist-packages (from jinja2->torch==2.2.1) (2.1.2)\n",
      "INFO: pip is looking at multiple versions of networkx to determine which version is compatible with other requirements. This could take a while.\n",
      "Collecting networkx (from torch==2.2.1)\n",
      "  Downloading https://download.pytorch.org/whl/networkx-3.0-py3-none-any.whl (2.0 MB)\n",
      "\u001b[2K     \u001b[90m━━━━━━━━━━━━━━━━━━━━━━━━━━━━━━━━━━━━━━━━\u001b[0m \u001b[32m2.0/2.0 MB\u001b[0m \u001b[31m54.0 MB/s\u001b[0m eta \u001b[36m0:00:00\u001b[0m:00:01\u001b[0m\n",
      "\u001b[?25hCollecting mpmath>=0.19 (from sympy->torch==2.2.1)\n",
      "  Downloading https://download.pytorch.org/whl/mpmath-1.3.0-py3-none-any.whl (536 kB)\n",
      "\u001b[2K     \u001b[90m━━━━━━━━━━━━━━━━━━━━━━━━━━━━━━━━━━━━━━\u001b[0m \u001b[32m536.2/536.2 kB\u001b[0m \u001b[31m43.9 MB/s\u001b[0m eta \u001b[36m0:00:00\u001b[0m\n",
      "\u001b[?25hInstalling collected packages: mpmath, typing-extensions, sympy, pillow, nvidia-nvtx-cu12, nvidia-nvjitlink-cu12, nvidia-nccl-cu12, nvidia-curand-cu12, nvidia-cufft-cu12, nvidia-cuda-runtime-cu12, nvidia-cuda-nvrtc-cu12, nvidia-cuda-cupti-cu12, nvidia-cublas-cu12, networkx, fsspec, filelock, triton, nvidia-cusparse-cu12, nvidia-cudnn-cu12, nvidia-cusolver-cu12, torch, torchvision, torchaudio\n",
      "  Attempting uninstall: typing-extensions\n",
      "    Found existing installation: typing_extensions 4.6.2\n",
      "    Uninstalling typing_extensions-4.6.2:\n",
      "      Successfully uninstalled typing_extensions-4.6.2\n",
      "\u001b[31mERROR: pip's dependency resolver does not currently take into account all the packages that are installed. This behaviour is the source of the following dependency conflicts.\n",
      "poptorch-geometric 3.2.0+112435 requires torch-scatter@ https://data.pyg.org/whl/torch-1.13.0%2Bcpu/torch_scatter-2.1.0+pt113cpu-cp38-cp38-linux_x86_64.whl, which is not installed.\n",
      "poptorch-geometric 3.2.0+112435 requires torch-sparse@ https://data.pyg.org/whl/torch-1.13.0%2Bcpu/torch_sparse-0.6.16+pt113cpu-cp38-cp38-linux_x86_64.whl, which is not installed.\u001b[0m\u001b[31m\n",
      "\u001b[0mSuccessfully installed filelock-3.13.1 fsspec-2024.2.0 mpmath-1.3.0 networkx-3.0 nvidia-cublas-cu12-12.1.3.1 nvidia-cuda-cupti-cu12-12.1.105 nvidia-cuda-nvrtc-cu12-12.1.105 nvidia-cuda-runtime-cu12-12.1.105 nvidia-cudnn-cu12-8.9.2.26 nvidia-cufft-cu12-11.0.2.54 nvidia-curand-cu12-10.3.2.106 nvidia-cusolver-cu12-11.4.5.107 nvidia-cusparse-cu12-12.1.0.106 nvidia-nccl-cu12-2.19.3 nvidia-nvjitlink-cu12-12.1.105 nvidia-nvtx-cu12-12.1.105 pillow-10.2.0 sympy-1.12 torch-2.2.1+cu121 torchaudio-2.2.1+cu121 torchvision-0.17.1+cu121 triton-2.2.0 typing-extensions-4.9.0\n",
      "\u001b[33mWARNING: Running pip as the 'root' user can result in broken permissions and conflicting behaviour with the system package manager. It is recommended to use a virtual environment instead: https://pip.pypa.io/warnings/venv\u001b[0m\u001b[33m\n",
      "\u001b[0m\u001b[31mERROR: pip's dependency resolver does not currently take into account all the packages that are installed. This behaviour is the source of the following dependency conflicts.\n",
      "poptorch-geometric 3.2.0+112435 requires torch-sparse@ https://data.pyg.org/whl/torch-1.13.0%2Bcpu/torch_sparse-0.6.16+pt113cpu-cp38-cp38-linux_x86_64.whl, which is not installed.\u001b[0m\u001b[31m\n",
      "\u001b[0m\u001b[33mWARNING: Running pip as the 'root' user can result in broken permissions and conflicting behaviour with the system package manager. It is recommended to use a virtual environment instead: https://pip.pypa.io/warnings/venv\u001b[0m\u001b[33m\n",
      "\u001b[0m\u001b[33mWARNING: Running pip as the 'root' user can result in broken permissions and conflicting behaviour with the system package manager. It is recommended to use a virtual environment instead: https://pip.pypa.io/warnings/venv\u001b[0m\u001b[33m\n",
      "\u001b[0m\u001b[33mWARNING: Running pip as the 'root' user can result in broken permissions and conflicting behaviour with the system package manager. It is recommended to use a virtual environment instead: https://pip.pypa.io/warnings/venv\u001b[0m\u001b[33m\n",
      "\u001b[0m\u001b[33mWARNING: Running pip as the 'root' user can result in broken permissions and conflicting behaviour with the system package manager. It is recommended to use a virtual environment instead: https://pip.pypa.io/warnings/venv\u001b[0m\u001b[33m\n",
      "\u001b[0mCollecting matplotlib\n",
      "  Downloading matplotlib-3.7.5-cp38-cp38-manylinux_2_12_x86_64.manylinux2010_x86_64.whl (9.2 MB)\n",
      "\u001b[2K     \u001b[90m━━━━━━━━━━━━━━━━━━━━━━━━━━━━━━━━━━━━━━━━\u001b[0m \u001b[32m9.2/9.2 MB\u001b[0m \u001b[31m40.3 MB/s\u001b[0m eta \u001b[36m0:00:00\u001b[0m00:01\u001b[0m00:01\u001b[0mm\n",
      "\u001b[?25hCollecting pyvis\n",
      "  Downloading pyvis-0.3.2-py3-none-any.whl (756 kB)\n",
      "\u001b[2K     \u001b[90m━━━━━━━━━━━━━━━━━━━━━━━━━━━━━━━━━━━━━━\u001b[0m \u001b[32m756.0/756.0 kB\u001b[0m \u001b[31m49.7 MB/s\u001b[0m eta \u001b[36m0:00:00\u001b[0m\n",
      "\u001b[?25hCollecting torchmetrics\n",
      "  Downloading torchmetrics-1.3.2-py3-none-any.whl (841 kB)\n",
      "\u001b[2K     \u001b[90m━━━━━━━━━━━━━━━━━━━━━━━━━━━━━━━━━━━━━━\u001b[0m \u001b[32m841.5/841.5 kB\u001b[0m \u001b[31m51.0 MB/s\u001b[0m eta \u001b[36m0:00:00\u001b[0m\n",
      "\u001b[?25hCollecting contourpy>=1.0.1 (from matplotlib)\n",
      "  Downloading contourpy-1.1.1-cp38-cp38-manylinux_2_17_x86_64.manylinux2014_x86_64.whl (301 kB)\n",
      "\u001b[2K     \u001b[90m━━━━━━━━━━━━━━━━━━━━━━━━━━━━━━━━━━━━━━\u001b[0m \u001b[32m301.1/301.1 kB\u001b[0m \u001b[31m33.8 MB/s\u001b[0m eta \u001b[36m0:00:00\u001b[0m\n",
      "\u001b[?25hCollecting cycler>=0.10 (from matplotlib)\n",
      "  Downloading cycler-0.12.1-py3-none-any.whl (8.3 kB)\n",
      "Collecting fonttools>=4.22.0 (from matplotlib)\n",
      "  Downloading fonttools-4.51.0-cp38-cp38-manylinux_2_17_x86_64.manylinux2014_x86_64.whl (4.7 MB)\n",
      "\u001b[2K     \u001b[90m━━━━━━━━━━━━━━━━━━━━━━━━━━━━━━━━━━━━━━━━\u001b[0m \u001b[32m4.7/4.7 MB\u001b[0m \u001b[31m71.6 MB/s\u001b[0m eta \u001b[36m0:00:00\u001b[0m:00:01\u001b[0m\n",
      "\u001b[?25hCollecting kiwisolver>=1.0.1 (from matplotlib)\n",
      "  Downloading kiwisolver-1.4.5-cp38-cp38-manylinux_2_5_x86_64.manylinux1_x86_64.whl (1.2 MB)\n",
      "\u001b[2K     \u001b[90m━━━━━━━━━━━━━━━━━━━━━━━━━━━━━━━━━━━━━━━━\u001b[0m \u001b[32m1.2/1.2 MB\u001b[0m \u001b[31m74.7 MB/s\u001b[0m eta \u001b[36m0:00:00\u001b[0m\n",
      "\u001b[?25hRequirement already satisfied: numpy<2,>=1.20 in /usr/local/lib/python3.8/dist-packages (from matplotlib) (1.24.3)\n",
      "Requirement already satisfied: packaging>=20.0 in /usr/local/lib/python3.8/dist-packages (from matplotlib) (23.1)\n",
      "Requirement already satisfied: pillow>=6.2.0 in /usr/local/lib/python3.8/dist-packages (from matplotlib) (10.2.0)\n",
      "Requirement already satisfied: pyparsing>=2.3.1 in /usr/local/lib/python3.8/dist-packages (from matplotlib) (3.0.9)\n",
      "Requirement already satisfied: python-dateutil>=2.7 in /usr/local/lib/python3.8/dist-packages (from matplotlib) (2.8.2)\n",
      "Requirement already satisfied: importlib-resources>=3.2.0 in /usr/local/lib/python3.8/dist-packages (from matplotlib) (5.12.0)\n",
      "Requirement already satisfied: ipython>=5.3.0 in /usr/local/lib/python3.8/dist-packages (from pyvis) (7.16.3)\n",
      "Requirement already satisfied: jinja2>=2.9.6 in /usr/local/lib/python3.8/dist-packages (from pyvis) (3.1.2)\n",
      "Collecting jsonpickle>=1.4.1 (from pyvis)\n",
      "  Downloading jsonpickle-3.0.4-py3-none-any.whl (39 kB)\n",
      "Requirement already satisfied: networkx>=1.11 in /usr/local/lib/python3.8/dist-packages (from pyvis) (3.0)\n",
      "Requirement already satisfied: torch>=1.10.0 in /usr/local/lib/python3.8/dist-packages (from torchmetrics) (2.2.1+cu121)\n",
      "Collecting lightning-utilities>=0.8.0 (from torchmetrics)\n",
      "  Downloading lightning_utilities-0.11.2-py3-none-any.whl (26 kB)\n",
      "Requirement already satisfied: typing-extensions in /usr/local/lib/python3.8/dist-packages (from torchmetrics) (4.9.0)\n",
      "Requirement already satisfied: zipp>=3.1.0 in /usr/local/lib/python3.8/dist-packages (from importlib-resources>=3.2.0->matplotlib) (3.15.0)\n",
      "Requirement already satisfied: setuptools>=18.5 in /usr/local/lib/python3.8/dist-packages (from ipython>=5.3.0->pyvis) (67.8.0)\n",
      "Requirement already satisfied: jedi<=0.17.2,>=0.10 in /usr/local/lib/python3.8/dist-packages (from ipython>=5.3.0->pyvis) (0.17.2)\n",
      "Requirement already satisfied: decorator in /usr/local/lib/python3.8/dist-packages (from ipython>=5.3.0->pyvis) (5.1.1)\n",
      "Requirement already satisfied: pickleshare in /usr/local/lib/python3.8/dist-packages (from ipython>=5.3.0->pyvis) (0.7.5)\n",
      "Requirement already satisfied: traitlets>=4.2 in /usr/local/lib/python3.8/dist-packages (from ipython>=5.3.0->pyvis) (5.9.0)\n",
      "Requirement already satisfied: prompt-toolkit!=3.0.0,!=3.0.1,<3.1.0,>=2.0.0 in /usr/local/lib/python3.8/dist-packages (from ipython>=5.3.0->pyvis) (3.0.38)\n",
      "Requirement already satisfied: pygments in /usr/local/lib/python3.8/dist-packages (from ipython>=5.3.0->pyvis) (2.15.1)\n",
      "Requirement already satisfied: backcall in /usr/local/lib/python3.8/dist-packages (from ipython>=5.3.0->pyvis) (0.2.0)\n",
      "Requirement already satisfied: pexpect in /usr/local/lib/python3.8/dist-packages (from ipython>=5.3.0->pyvis) (4.8.0)\n",
      "Requirement already satisfied: MarkupSafe>=2.0 in /usr/local/lib/python3.8/dist-packages (from jinja2>=2.9.6->pyvis) (2.1.2)\n",
      "Requirement already satisfied: six>=1.5 in /usr/lib/python3/dist-packages (from python-dateutil>=2.7->matplotlib) (1.14.0)\n",
      "Requirement already satisfied: filelock in /usr/local/lib/python3.8/dist-packages (from torch>=1.10.0->torchmetrics) (3.13.1)\n",
      "Requirement already satisfied: sympy in /usr/local/lib/python3.8/dist-packages (from torch>=1.10.0->torchmetrics) (1.12)\n",
      "Requirement already satisfied: fsspec in /usr/local/lib/python3.8/dist-packages (from torch>=1.10.0->torchmetrics) (2024.2.0)\n",
      "Requirement already satisfied: nvidia-cuda-nvrtc-cu12==12.1.105 in /usr/local/lib/python3.8/dist-packages (from torch>=1.10.0->torchmetrics) (12.1.105)\n",
      "Requirement already satisfied: nvidia-cuda-runtime-cu12==12.1.105 in /usr/local/lib/python3.8/dist-packages (from torch>=1.10.0->torchmetrics) (12.1.105)\n",
      "Requirement already satisfied: nvidia-cuda-cupti-cu12==12.1.105 in /usr/local/lib/python3.8/dist-packages (from torch>=1.10.0->torchmetrics) (12.1.105)\n",
      "Requirement already satisfied: nvidia-cudnn-cu12==8.9.2.26 in /usr/local/lib/python3.8/dist-packages (from torch>=1.10.0->torchmetrics) (8.9.2.26)\n",
      "Requirement already satisfied: nvidia-cublas-cu12==12.1.3.1 in /usr/local/lib/python3.8/dist-packages (from torch>=1.10.0->torchmetrics) (12.1.3.1)\n",
      "Requirement already satisfied: nvidia-cufft-cu12==11.0.2.54 in /usr/local/lib/python3.8/dist-packages (from torch>=1.10.0->torchmetrics) (11.0.2.54)\n",
      "Requirement already satisfied: nvidia-curand-cu12==10.3.2.106 in /usr/local/lib/python3.8/dist-packages (from torch>=1.10.0->torchmetrics) (10.3.2.106)\n",
      "Requirement already satisfied: nvidia-cusolver-cu12==11.4.5.107 in /usr/local/lib/python3.8/dist-packages (from torch>=1.10.0->torchmetrics) (11.4.5.107)\n",
      "Requirement already satisfied: nvidia-cusparse-cu12==12.1.0.106 in /usr/local/lib/python3.8/dist-packages (from torch>=1.10.0->torchmetrics) (12.1.0.106)\n",
      "Requirement already satisfied: nvidia-nccl-cu12==2.19.3 in /usr/local/lib/python3.8/dist-packages (from torch>=1.10.0->torchmetrics) (2.19.3)\n",
      "Requirement already satisfied: nvidia-nvtx-cu12==12.1.105 in /usr/local/lib/python3.8/dist-packages (from torch>=1.10.0->torchmetrics) (12.1.105)\n",
      "Requirement already satisfied: triton==2.2.0 in /usr/local/lib/python3.8/dist-packages (from torch>=1.10.0->torchmetrics) (2.2.0)\n",
      "Requirement already satisfied: nvidia-nvjitlink-cu12 in /usr/local/lib/python3.8/dist-packages (from nvidia-cusolver-cu12==11.4.5.107->torch>=1.10.0->torchmetrics) (12.1.105)\n",
      "Requirement already satisfied: parso<0.8.0,>=0.7.0 in /usr/local/lib/python3.8/dist-packages (from jedi<=0.17.2,>=0.10->ipython>=5.3.0->pyvis) (0.7.1)\n",
      "Requirement already satisfied: wcwidth in /usr/local/lib/python3.8/dist-packages (from prompt-toolkit!=3.0.0,!=3.0.1,<3.1.0,>=2.0.0->ipython>=5.3.0->pyvis) (0.2.6)\n",
      "Requirement already satisfied: ptyprocess>=0.5 in /usr/local/lib/python3.8/dist-packages (from pexpect->ipython>=5.3.0->pyvis) (0.7.0)\n",
      "Requirement already satisfied: mpmath>=0.19 in /usr/local/lib/python3.8/dist-packages (from sympy->torch>=1.10.0->torchmetrics) (1.3.0)\n",
      "Installing collected packages: lightning-utilities, kiwisolver, jsonpickle, fonttools, cycler, contourpy, matplotlib, pyvis, torchmetrics\n",
      "Successfully installed contourpy-1.1.1 cycler-0.12.1 fonttools-4.51.0 jsonpickle-3.0.4 kiwisolver-1.4.5 lightning-utilities-0.11.2 matplotlib-3.7.5 pyvis-0.3.2 torchmetrics-1.3.2\n",
      "\u001b[33mWARNING: Running pip as the 'root' user can result in broken permissions and conflicting behaviour with the system package manager. It is recommended to use a virtual environment instead: https://pip.pypa.io/warnings/venv\u001b[0m\u001b[33m\n",
      "\u001b[0mCollecting laspy\n",
      "  Downloading laspy-2.5.3-py3-none-any.whl (85 kB)\n",
      "\u001b[2K     \u001b[90m━━━━━━━━━━━━━━━━━━━━━━━━━━━━━━━━━━━━━━━━\u001b[0m \u001b[32m85.2/85.2 kB\u001b[0m \u001b[31m12.2 MB/s\u001b[0m eta \u001b[36m0:00:00\u001b[0m\n",
      "\u001b[?25hRequirement already satisfied: numpy in /usr/local/lib/python3.8/dist-packages (from laspy) (1.24.3)\n",
      "Installing collected packages: laspy\n",
      "Successfully installed laspy-2.5.3\n",
      "\u001b[33mWARNING: Running pip as the 'root' user can result in broken permissions and conflicting behaviour with the system package manager. It is recommended to use a virtual environment instead: https://pip.pypa.io/warnings/venv\u001b[0m\u001b[33m\n",
      "\u001b[0m"
     ]
    }
   ],
   "source": [
    "!pip uninstall torch torchvision torchaudio torch-scatter torch-sparse torch-cluster -y\n",
    "# !pip3 install torch torchvision torchaudio --index-url https://download.pytorch.org/whl/cu121\n",
    "!pip3 install torch==2.2.1 torchvision==0.17.1 torchaudio==2.2.1 --index-url https://download.pytorch.org/whl/cu121\n",
    "!pip install -q torch-scatter -f https://pytorch-geometric.com/whl/torch-2.2.1+cu121.html --no-cache-dir\n",
    "!pip install -q torch-sparse -f https://pytorch-geometric.com/whl/torch-2.2.1+cu121.html --no-cache-dir\n",
    "!pip install -q torch-cluster -f https://pytorch-geometric.com/whl/torch-2.2.1+cu121.html --no-cache-dir\n",
    "!pip install -q git+https://github.com/pyg-team/pytorch_geometric.git\n",
    "!pip install matplotlib pyvis torchmetrics\n",
    "!pip install laspy\n"
   ]
  },
  {
   "cell_type": "code",
   "execution_count": 2,
   "id": "3fef1e0d-16b3-42af-8131-6cb6e9bfe31e",
   "metadata": {
    "execution": {
     "iopub.execute_input": "2024-05-02T14:28:19.102680Z",
     "iopub.status.busy": "2024-05-02T14:28:19.102109Z",
     "iopub.status.idle": "2024-05-02T14:28:20.092883Z",
     "shell.execute_reply": "2024-05-02T14:28:20.090298Z",
     "shell.execute_reply.started": "2024-05-02T14:28:19.102630Z"
    }
   },
   "outputs": [
    {
     "name": "stdout",
     "output_type": "stream",
     "text": [
      "Thu May  2 14:28:19 2024       \n",
      "+-----------------------------------------------------------------------------+\n",
      "| NVIDIA-SMI 525.116.04   Driver Version: 525.116.04   CUDA Version: 12.0     |\n",
      "|-------------------------------+----------------------+----------------------+\n",
      "| GPU  Name        Persistence-M| Bus-Id        Disp.A | Volatile Uncorr. ECC |\n",
      "| Fan  Temp  Perf  Pwr:Usage/Cap|         Memory-Usage | GPU-Util  Compute M. |\n",
      "|                               |                      |               MIG M. |\n",
      "|===============================+======================+======================|\n",
      "|   0  Quadro RTX 4000     Off  | 00000000:00:05.0 Off |                  N/A |\n",
      "| 30%   39C    P8     5W / 125W |      1MiB /  8192MiB |      0%      Default |\n",
      "|                               |                      |                  N/A |\n",
      "+-------------------------------+----------------------+----------------------+\n",
      "                                                                               \n",
      "+-----------------------------------------------------------------------------+\n",
      "| Processes:                                                                  |\n",
      "|  GPU   GI   CI        PID   Type   Process name                  GPU Memory |\n",
      "|        ID   ID                                                   Usage      |\n",
      "|=============================================================================|\n",
      "|  No running processes found                                                 |\n",
      "+-----------------------------------------------------------------------------+\n"
     ]
    }
   ],
   "source": [
    "!nvidia-smi"
   ]
  },
  {
   "cell_type": "code",
   "execution_count": 3,
   "id": "a9801aaa-1307-401b-a29d-e845a6deae6f",
   "metadata": {
    "execution": {
     "iopub.execute_input": "2024-05-02T14:28:20.097142Z",
     "iopub.status.busy": "2024-05-02T14:28:20.096584Z",
     "iopub.status.idle": "2024-05-02T14:28:27.418247Z",
     "shell.execute_reply": "2024-05-02T14:28:27.416171Z",
     "shell.execute_reply.started": "2024-05-02T14:28:20.097090Z"
    }
   },
   "outputs": [
    {
     "name": "stdout",
     "output_type": "stream",
     "text": [
      "2.2.1+cu121\n"
     ]
    }
   ],
   "source": [
    "from glob import glob\n",
    "import os.path as osp\n",
    "import os\n",
    "import laspy as lp\n",
    "import numpy as np\n",
    "from tqdm.auto import tqdm\n",
    "\n",
    "\n",
    "import torch\n",
    "import torch.nn.functional as F\n",
    "from torchmetrics.functional import jaccard_index\n",
    "\n",
    "import torch_geometric.transforms as T\n",
    "from torch_geometric.data import Data\n",
    "from torch_geometric.loader import DataLoader\n",
    "\n",
    "from torch_geometric.nn import MLP, PointNetConv, fps, global_max_pool, radius,knn_interpolate\n",
    "from torch_geometric.typing import WITH_TORCH_CLUSTER\n",
    "from torch_geometric.utils import scatter\n",
    "\n",
    "import matplotlib.pyplot as plt\n",
    "\n",
    "os.environ['TORCH'] = torch.__version__\n",
    "print(torch.__version__)"
   ]
  },
  {
   "cell_type": "code",
   "execution_count": 4,
   "id": "a4ca5f13-f4ed-456b-b5ae-b284c930fcef",
   "metadata": {
    "execution": {
     "iopub.execute_input": "2024-05-02T14:28:27.422076Z",
     "iopub.status.busy": "2024-05-02T14:28:27.421343Z",
     "iopub.status.idle": "2024-05-02T14:28:27.429122Z",
     "shell.execute_reply": "2024-05-02T14:28:27.427518Z",
     "shell.execute_reply.started": "2024-05-02T14:28:27.422015Z"
    }
   },
   "outputs": [],
   "source": [
    "if not WITH_TORCH_CLUSTER:\n",
    "    quit(\"This example requires 'torch-cluster'\")"
   ]
  },
  {
   "cell_type": "markdown",
   "id": "ce7747aa-2382-4f89-a3a2-6b5cdeb1f32c",
   "metadata": {},
   "source": [
    "# Define PointNet++ Segmentation model"
   ]
  },
  {
   "cell_type": "code",
   "execution_count": 5,
   "id": "72ce8472-4782-4289-9e3d-9cbf3161ef3b",
   "metadata": {
    "execution": {
     "iopub.execute_input": "2024-05-02T14:28:27.431867Z",
     "iopub.status.busy": "2024-05-02T14:28:27.431035Z",
     "iopub.status.idle": "2024-05-02T14:28:27.443736Z",
     "shell.execute_reply": "2024-05-02T14:28:27.442260Z",
     "shell.execute_reply.started": "2024-05-02T14:28:27.431813Z"
    }
   },
   "outputs": [],
   "source": [
    "class SAModule(torch.nn.Module):\n",
    "    def __init__(self, ratio, r, nn):\n",
    "        super().__init__()\n",
    "        self.ratio = ratio\n",
    "        self.r = r\n",
    "        self.conv = PointNetConv(nn, add_self_loops=False)\n",
    "\n",
    "    def forward(self, x, pos, batch):\n",
    "        idx = fps(pos, batch, ratio=self.ratio)\n",
    "        \n",
    "        row, col = radius(pos, pos[idx], self.r, batch, batch[idx],\n",
    "                          max_num_neighbors=64)\n",
    "        edge_index = torch.stack([col, row], dim=0)\n",
    "        x_dst = None if x is None else x[idx]\n",
    "        \n",
    "        # print(f\"idx shape: {idx.shape}\")\n",
    "        # print(f\"x shape: {x.shape}\")\n",
    "        # print(f\"pos shape: {pos.shape}\")\n",
    "        # print(f\"x_dst shape: {x_dst.shape}\")\n",
    "        # print(f\"edge_index shape: {edge_index.shape}\")\n",
    "        \n",
    "        x = self.conv((x, x_dst), (pos, pos[idx]), edge_index)\n",
    "        pos, batch = pos[idx], batch[idx]\n",
    "        return x, pos, batch\n"
   ]
  },
  {
   "cell_type": "code",
   "execution_count": 6,
   "id": "8cd03b64-c731-4e6c-b727-977fc5cd9ff1",
   "metadata": {
    "execution": {
     "iopub.execute_input": "2024-05-02T14:28:27.446640Z",
     "iopub.status.busy": "2024-05-02T14:28:27.445438Z",
     "iopub.status.idle": "2024-05-02T14:28:27.455293Z",
     "shell.execute_reply": "2024-05-02T14:28:27.453958Z",
     "shell.execute_reply.started": "2024-05-02T14:28:27.446580Z"
    }
   },
   "outputs": [],
   "source": [
    "class GlobalSAModule(torch.nn.Module):\n",
    "    def __init__(self, nn):\n",
    "        super().__init__()\n",
    "        self.nn = nn\n",
    "\n",
    "    def forward(self, x, pos, batch):\n",
    "        x = self.nn(torch.cat([x, pos], dim=1))\n",
    "        x = global_max_pool(x, batch)\n",
    "        pos = pos.new_zeros((x.size(0), 3))\n",
    "        batch = torch.arange(x.size(0), device=batch.device)\n",
    "        return x, pos, batch"
   ]
  },
  {
   "cell_type": "code",
   "execution_count": 7,
   "id": "7c0b5e36-c0e8-4e10-929b-c26ea88eec07",
   "metadata": {
    "execution": {
     "iopub.execute_input": "2024-05-02T14:28:27.458057Z",
     "iopub.status.busy": "2024-05-02T14:28:27.456962Z",
     "iopub.status.idle": "2024-05-02T14:28:27.466966Z",
     "shell.execute_reply": "2024-05-02T14:28:27.465629Z",
     "shell.execute_reply.started": "2024-05-02T14:28:27.457997Z"
    }
   },
   "outputs": [],
   "source": [
    "class FPModule(torch.nn.Module):\n",
    "    def __init__(self, k, nn):\n",
    "        super().__init__()\n",
    "        self.k = k\n",
    "        self.nn = nn\n",
    "\n",
    "    def forward(self, x, pos, batch, x_skip, pos_skip, batch_skip):\n",
    "        x = knn_interpolate(x, pos, pos_skip, batch, batch_skip, k=self.k)\n",
    "        if x_skip is not None:\n",
    "            x = torch.cat([x, x_skip], dim=1)\n",
    "        x = self.nn(x)\n",
    "        return x, pos_skip, batch_skip"
   ]
  },
  {
   "cell_type": "code",
   "execution_count": 8,
   "id": "0e071dfe-5e7e-4ba1-b7e4-9b66b04255ec",
   "metadata": {
    "execution": {
     "iopub.execute_input": "2024-05-02T14:28:27.471248Z",
     "iopub.status.busy": "2024-05-02T14:28:27.470388Z",
     "iopub.status.idle": "2024-05-02T14:28:27.486012Z",
     "shell.execute_reply": "2024-05-02T14:28:27.484763Z",
     "shell.execute_reply.started": "2024-05-02T14:28:27.471194Z"
    }
   },
   "outputs": [],
   "source": [
    "class Net(torch.nn.Module):\n",
    "    def __init__(self, num_classes , num_features):\n",
    "        super().__init__()\n",
    "        \n",
    "        self.num_classes = num_classes\n",
    "        self.num_features = num_features\n",
    "\n",
    "        # Input channels account for both `pos` and node features.\n",
    "        # self.sa1_module = SAModule(0.2, 0.2, MLP([3 + 3, 64, 64, 128]))\n",
    "        self.sa1_module = SAModule(0.2, 0.2, MLP([3 + num_features, 64, 64, 128]))\n",
    "        # self.sa2_module = SAModule(0.25, 0.4, MLP([128 + 3, 128, 128, 256]))\n",
    "        # self.sa1_module = SAModule(0.8, 0.2, MLP([3 + num_features, 64, 64, 128]))\n",
    "        self.sa2_module = SAModule(0.25, 0.4, MLP([128 + 3, 128, 128, 256]))\n",
    "        self.sa3_module = GlobalSAModule(MLP([256 + 3, 256, 512, 1024]))\n",
    "\n",
    "        self.fp3_module = FPModule(1, MLP([1024 + 256, 256, 256]))\n",
    "        self.fp2_module = FPModule(3, MLP([256 + 128, 256, 128]))\n",
    "        self.fp1_module = FPModule(3, MLP([128 + num_features, 128, 128, 128]))\n",
    "\n",
    "        # self.mlp = MLP([128, 128, 128, num_classes], dropout=0.5, norm=None)\n",
    "        self.mlp = MLP([128, 128, 128, num_classes], dropout=0.2, norm=None)\n",
    "\n",
    "        # self.lin1 = torch.nn.Linear(128, 128)\n",
    "        # self.lin2 = torch.nn.Linear(128, 128)\n",
    "        # self.lin3 = torch.nn.Linear(128, num_classes)\n",
    "\n",
    "    def forward(self, data):\n",
    "        sa0_out = (data.x, data.pos, data.batch)\n",
    "        sa1_out = self.sa1_module(*sa0_out)\n",
    "        sa2_out = self.sa2_module(*sa1_out)\n",
    "        sa3_out = self.sa3_module(*sa2_out)\n",
    "\n",
    "        fp3_out = self.fp3_module(*sa3_out, *sa2_out)\n",
    "        fp2_out = self.fp2_module(*fp3_out, *sa1_out)\n",
    "        x, _, _ = self.fp1_module(*fp2_out, *sa0_out)\n",
    "\n",
    "        return self.mlp(x).log_softmax(dim=-1)"
   ]
  },
  {
   "cell_type": "code",
   "execution_count": 9,
   "id": "37c464e3-2cff-4eec-b8b0-0ae29c89d155",
   "metadata": {
    "execution": {
     "iopub.execute_input": "2024-05-02T14:28:27.489368Z",
     "iopub.status.busy": "2024-05-02T14:28:27.487985Z",
     "iopub.status.idle": "2024-05-02T14:28:27.507427Z",
     "shell.execute_reply": "2024-05-02T14:28:27.506143Z",
     "shell.execute_reply.started": "2024-05-02T14:28:27.489305Z"
    }
   },
   "outputs": [],
   "source": [
    "class DeepNet(torch.nn.Module):\n",
    "    def __init__(self, num_classes , num_features, ratio = [0.5, 0.5, 0.5], r = [0.2, 0.2, 0.2],  act = 'relu'):\n",
    "        super().__init__()\n",
    "        self.num_classes = num_classes\n",
    "        self.num_feature = num_features\n",
    "        # Input channels account for both pos and node features.\n",
    "        # self.sa1_module = SAModule(0.2, 0.2, MLP([3 + 3, 64, 64, 128]))\n",
    "        self.sa1_module = SAModule(ratio[0], r[0], MLP([3 + num_features, 64, 64, 128], act = act ))\n",
    "        self.sa2_module = SAModule(ratio[1], r[1], MLP([128 + 3, 128, 128, 256], act = act))\n",
    "        self.sa3_module = SAModule(ratio[2], r[2], MLP([256 + 3, 256, 256, 512], act = act))\n",
    "        self.sa4_module = GlobalSAModule(MLP([512 + 3, 512, 512, 1024], act = act))\n",
    "        \n",
    "        self.fp4_module = FPModule(1, MLP([1024 + 512, 512 , 512], act = act))\n",
    "        self.fp3_module = FPModule(3, MLP([512 + 256, 256, 256], act = act))\n",
    "        self.fp2_module = FPModule(3, MLP([256 + 128, 256, 256], act = act))\n",
    "        self.fp1_module = FPModule(3, MLP([256 + num_features, 128, 128, 128], act = act))\n",
    "\n",
    "        self.mlp = MLP([128, 128, 128, num_classes], act = \"sigmoid\", norm=None)\n",
    "\n",
    "        # self.lin1 = torch.nn.Linear(128, 128)\n",
    "        # self.lin2 = torch.nn.Linear(128, 128)\n",
    "        # self.lin3 = torch.nn.Linear(128, num_classes)\n",
    "\n",
    "    def forward(self, data):\n",
    "        sa0_out = (data.x, data.pos, data.batch)\n",
    "        sa1_out = self.sa1_module(*sa0_out)\n",
    "        sa2_out = self.sa2_module(*sa1_out)\n",
    "        sa3_out = self.sa3_module(*sa2_out)\n",
    "        sa4_out = self.sa4_module(*sa3_out)\n",
    "        \n",
    "        fp4_out = self.fp4_module(*sa4_out, *sa3_out)\n",
    "        fp3_out = self.fp3_module(*fp4_out, *sa2_out)\n",
    "        fp2_out = self.fp2_module(*fp3_out, *sa1_out)\n",
    "        x, _, _ = self.fp1_module(*fp2_out, *sa0_out)\n",
    "\n",
    "        return self.mlp(x).log_softmax(dim=-1)"
   ]
  },
  {
   "cell_type": "code",
   "execution_count": 10,
   "id": "2e2ac0c8-78a7-4928-b73f-eb8851c6d0cb",
   "metadata": {
    "execution": {
     "iopub.execute_input": "2024-05-02T14:28:27.510012Z",
     "iopub.status.busy": "2024-05-02T14:28:27.509142Z",
     "iopub.status.idle": "2024-05-02T14:28:27.517116Z",
     "shell.execute_reply": "2024-05-02T14:28:27.515856Z",
     "shell.execute_reply.started": "2024-05-02T14:28:27.509954Z"
    }
   },
   "outputs": [],
   "source": [
    "def create_model( sampling_ratio = [0.25, 0.25, 0.25 ], ball_radius = [0.2, 0.4, 0.4], act = 'relu', num_classes = 9, num_features = 1): \n",
    "    return DeepNet(ratio = sampling_ratio, \n",
    "                   r = ball_radius, \n",
    "                   num_classes = num_classes, \n",
    "                   num_features = num_features, \n",
    "                   act = act)"
   ]
  },
  {
   "cell_type": "markdown",
   "id": "30770fbd-1c1b-4c40-a044-aa74b6c9277b",
   "metadata": {},
   "source": [
    "# Preprocessing data"
   ]
  },
  {
   "cell_type": "code",
   "execution_count": 12,
   "id": "3a492349-5e85-4638-aaac-88e611c5e505",
   "metadata": {
    "execution": {
     "iopub.execute_input": "2024-05-02T14:33:46.247162Z",
     "iopub.status.busy": "2024-05-02T14:33:46.246546Z",
     "iopub.status.idle": "2024-05-02T14:33:46.278223Z",
     "shell.execute_reply": "2024-05-02T14:33:46.276489Z",
     "shell.execute_reply.started": "2024-05-02T14:33:46.247110Z"
    }
   },
   "outputs": [],
   "source": [
    "#Get all las file for training \n",
    "TILES_SIZE = 15\n",
    "\n",
    "TRAIN_DIR = f\"dales_tiled/tiles_{TILES_SIZE}/train/\" \n",
    "TEST_DIR = f\"dales_tiled/tiles_{TILES_SIZE}/test/\" \n",
    "all_test_files  = os.listdir(osp.abspath(TEST_DIR))"
   ]
  },
  {
   "cell_type": "code",
   "execution_count": 11,
   "id": "f08cff59-f71c-4af2-ba82-ee324e479b87",
   "metadata": {
    "execution": {
     "iopub.execute_input": "2024-05-02T14:12:57.879440Z",
     "iopub.status.busy": "2024-05-02T14:12:57.878897Z",
     "iopub.status.idle": "2024-05-02T14:12:57.885635Z",
     "shell.execute_reply": "2024-05-02T14:12:57.883059Z",
     "shell.execute_reply.started": "2024-05-02T14:12:57.879381Z"
    }
   },
   "outputs": [],
   "source": [
    "# pc = lp.read(os.path.join(TRAIN_DIR, all_train_files[0])) \n",
    "# for dimension in pc.point_format.dimensions:\n",
    "#     print(dimension.name)"
   ]
  },
  {
   "cell_type": "code",
   "execution_count": 13,
   "id": "f03475d5-736b-4e36-a093-48b40530e03c",
   "metadata": {
    "execution": {
     "iopub.execute_input": "2024-05-02T14:33:50.151058Z",
     "iopub.status.busy": "2024-05-02T14:33:50.150449Z",
     "iopub.status.idle": "2024-05-02T14:33:50.163890Z",
     "shell.execute_reply": "2024-05-02T14:33:50.162349Z",
     "shell.execute_reply.started": "2024-05-02T14:33:50.151002Z"
    }
   },
   "outputs": [],
   "source": [
    "def convertData(laspath, debug = False, transform = True):\n",
    "    \n",
    "    pc = lp.read(laspath)\n",
    "    \n",
    "    # Define preprocessing steps\n",
    "    transform = T.Compose([\n",
    "        T.RandomJitter(0.01),\n",
    "        T.RandomRotate(15, axis=0),\n",
    "        T.RandomRotate(15, axis=1),\n",
    "        T.RandomRotate(15, axis=2)\n",
    "        ])\n",
    "    pre_transform = T.NormalizeScale()\n",
    "    \n",
    "    # Get imformation from las file\n",
    "    coords = np.vstack((pc.x, pc.y, pc.z)).transpose()    \n",
    "    scales = pc.header.scales\n",
    "    offsets= pc.header.offsets    \n",
    "    \n",
    "    labels = pc.classification.array\n",
    "    features = pc.intensity if np.max(pc.intensity) > 0 else np.ones_like(pc.intensity, dtype = np.uint8)\n",
    "    if len(features.shape) <2: \n",
    "        features = features[:, np.newaxis]\n",
    "    num_classes = len(np.unique(labels))\n",
    "    \n",
    "    data = Data(x = torch.from_numpy(coords).type(torch.FloatTensor),  \n",
    "                    pos = torch.from_numpy(coords).type(torch.FloatTensor), \n",
    "                    y = torch.from_numpy(labels), \n",
    "                    num_classes=num_classes,\n",
    "                    num_features = coords.shape[-1],\n",
    "                    # transform = transform, \n",
    "                    # pre_transform= pre_transform,\n",
    "               batch = torch.from_numpy(np.zeros_like(features,dtype = np.int64)).flatten()\n",
    "               )\n",
    "    if transform: \n",
    "        return transform( pre_transform( data))\n",
    "    else:\n",
    "        return data"
   ]
  },
  {
   "cell_type": "code",
   "execution_count": 14,
   "id": "b1a6deb8-9cb6-43b2-972f-6d8298fcd1a0",
   "metadata": {
    "execution": {
     "iopub.execute_input": "2024-05-02T14:33:51.047427Z",
     "iopub.status.busy": "2024-05-02T14:33:51.046887Z",
     "iopub.status.idle": "2024-05-02T14:33:51.061343Z",
     "shell.execute_reply": "2024-05-02T14:33:51.059712Z",
     "shell.execute_reply.started": "2024-05-02T14:33:51.047373Z"
    }
   },
   "outputs": [],
   "source": [
    "class BatchLoader(): \n",
    "    def __init__(self, pc, batch_size = 32000):\n",
    "        self.data = convertData(pc) \n",
    "        self.batch_size = batch_size \n",
    "        self.num_points  = int(self.data.x.shape[0])\n",
    "        self.num_batches =  self.num_points // self.batch_size\n",
    "        self.num_classes = self.data.num_classes\n",
    "        self.num_features = self.data.num_features\n",
    "        \n",
    "        self.transform = T.Compose([\n",
    "        T.RandomJitter(0.01),\n",
    "        T.RandomRotate(15, axis=0),\n",
    "        T.RandomRotate(15, axis=1),\n",
    "        T.RandomRotate(15, axis=2)\n",
    "        ])\n",
    "        self.pre_transform = T.NormalizeScale()\n",
    "        \n",
    "        \n",
    "        # print(self.data.x.shape[0])\n",
    "        \n",
    "    def load(self):\n",
    "        batches = []\n",
    "        for i in range(self.num_batches+1):\n",
    "            start_indx = int(i*self.batch_size)\n",
    "            end_indx   = start_indx + self.batch_size if  (start_indx + self.batch_size) < self.num_points else self.num_points\n",
    "    \n",
    "            batches.append(\n",
    "                self.transform(\n",
    "                    self.pre_transform(\n",
    "                        Data(\n",
    "                            x = self.data.x[start_indx:end_indx], \n",
    "                            pos = self.data.pos[start_indx:end_indx], \n",
    "                            y = self.data.y[start_indx:end_indx], \n",
    "                            batch = self.data.batch[start_indx:end_indx]))\n",
    "                )\n",
    "            )\n",
    "                \n",
    "        return batches"
   ]
  },
  {
   "cell_type": "code",
   "execution_count": 15,
   "id": "de12317c-95fd-49e3-820d-1870133baa4b",
   "metadata": {
    "execution": {
     "iopub.execute_input": "2024-05-02T14:33:52.320882Z",
     "iopub.status.busy": "2024-05-02T14:33:52.320299Z",
     "iopub.status.idle": "2024-05-02T14:33:52.327089Z",
     "shell.execute_reply": "2024-05-02T14:33:52.325265Z",
     "shell.execute_reply.started": "2024-05-02T14:33:52.320827Z"
    }
   },
   "outputs": [],
   "source": [
    "# train_data = convertData(os.path.join(TRAIN_DIR, all_train_files[0]))"
   ]
  },
  {
   "cell_type": "code",
   "execution_count": 16,
   "id": "02d88b99-df22-4505-bacb-78f44113bcbd",
   "metadata": {
    "execution": {
     "iopub.execute_input": "2024-05-02T14:33:53.085895Z",
     "iopub.status.busy": "2024-05-02T14:33:53.085310Z",
     "iopub.status.idle": "2024-05-02T14:33:53.092100Z",
     "shell.execute_reply": "2024-05-02T14:33:53.090144Z",
     "shell.execute_reply.started": "2024-05-02T14:33:53.085845Z"
    }
   },
   "outputs": [],
   "source": [
    "# print(train_data.num_features)"
   ]
  },
  {
   "cell_type": "markdown",
   "id": "104c9e16-062e-4df1-b55b-1e0c93a73f22",
   "metadata": {},
   "source": [
    "# Creat Pointnet++ for segmentation and pass it to GPU"
   ]
  },
  {
   "cell_type": "code",
   "execution_count": 17,
   "id": "8641c6a0-06a7-407a-b747-b5883de7083d",
   "metadata": {
    "execution": {
     "iopub.execute_input": "2024-05-02T14:33:56.591022Z",
     "iopub.status.busy": "2024-05-02T14:33:56.590457Z",
     "iopub.status.idle": "2024-05-02T14:33:59.780090Z",
     "shell.execute_reply": "2024-05-02T14:33:59.778483Z",
     "shell.execute_reply.started": "2024-05-02T14:33:56.590966Z"
    }
   },
   "outputs": [],
   "source": [
    "NUM_CLASS = 9\n",
    "NUM_FEATURES = 3\n",
    "\n",
    "torch.cuda.empty_cache()\n",
    "device = torch.device('cuda' if torch.cuda.is_available() else 'cpu')\n",
    "model = DeepNet(NUM_CLASS, NUM_FEATURES).to(device)\n",
    "optimizer = torch.optim.Adam(model.parameters(), lr=0.0001)\n",
    "# scheduler = torch.optim.lr_scheduler.StepLR(optimizer, step_size=20, gamma=0.5)"
   ]
  },
  {
   "cell_type": "code",
   "execution_count": 78,
   "id": "0569feb4-001c-4882-9139-0a066a5ccc11",
   "metadata": {
    "execution": {
     "iopub.execute_input": "2024-04-29T14:43:20.696582Z",
     "iopub.status.busy": "2024-04-29T14:43:20.695984Z",
     "iopub.status.idle": "2024-04-29T14:43:21.256988Z",
     "shell.execute_reply": "2024-04-29T14:43:21.252624Z",
     "shell.execute_reply.started": "2024-04-29T14:43:20.696540Z"
    }
   },
   "outputs": [],
   "source": [
    "#Load from checkpoint\n",
    "checkpoint = torch.load('models/deep_relu.pt')\n",
    "model.load_state_dict(checkpoint['model_state_dict'])\n",
    "# optimizer.load_state_dict(checkpoint['optimizer_state_dict'])\n",
    "epoch = checkpoint['epoch']\n",
    "loss = checkpoint['loss']\n"
   ]
  },
  {
   "cell_type": "markdown",
   "id": "3133e200-348e-46d3-bf10-ec14244edfc8",
   "metadata": {},
   "source": [
    "# Define train step"
   ]
  },
  {
   "cell_type": "code",
   "execution_count": 18,
   "id": "80c881ac-1517-4c8a-a497-28af56808347",
   "metadata": {
    "execution": {
     "iopub.execute_input": "2024-05-02T14:34:01.184307Z",
     "iopub.status.busy": "2024-05-02T14:34:01.183723Z",
     "iopub.status.idle": "2024-05-02T14:34:55.141189Z",
     "shell.execute_reply": "2024-05-02T14:34:55.139496Z",
     "shell.execute_reply.started": "2024-05-02T14:34:01.184252Z"
    }
   },
   "outputs": [
    {
     "data": {
      "application/vnd.jupyter.widget-view+json": {
       "model_id": "15f4dd80eae94440aa4a3556765e474a",
       "version_major": 2,
       "version_minor": 0
      },
      "text/plain": [
       "  0%|          | 0/2415 [00:00<?, ?it/s]"
      ]
     },
     "metadata": {},
     "output_type": "display_data"
    }
   ],
   "source": [
    "all_train_files = os.listdir(osp.abspath(TRAIN_DIR))\n",
    "train_batches = []\n",
    "for laspath in tqdm(all_train_files, total = len(all_train_files)):\n",
    "    las_data = convertData( os.path.join(TRAIN_DIR, laspath))\n",
    "    if las_data.pos.shape[0] > 1:\n",
    "        train_batches.append(las_data)\n",
    "    "
   ]
  },
  {
   "cell_type": "code",
   "execution_count": 19,
   "id": "4c1a8374-683d-41fa-886b-1503c075f958",
   "metadata": {
    "execution": {
     "iopub.execute_input": "2024-05-02T14:36:31.047438Z",
     "iopub.status.busy": "2024-05-02T14:36:31.046789Z",
     "iopub.status.idle": "2024-05-02T14:36:31.062004Z",
     "shell.execute_reply": "2024-05-02T14:36:31.060389Z",
     "shell.execute_reply.started": "2024-05-02T14:36:31.047383Z"
    }
   },
   "outputs": [],
   "source": [
    "def train(verbose = True):\n",
    "    model.train()\n",
    "\n",
    "    total_loss = correct_nodes = total_nodes = 0\n",
    "    accuracy = 0.0\n",
    "    ious = []\n",
    "    \n",
    "    train_log = tqdm(enumerate(train_batches), total = len(train_batches), position = 1)\n",
    "    \n",
    "    for i, data in train_log:\n",
    "        try:\n",
    "            data = data.to(device)\n",
    "            optimizer.zero_grad()\n",
    "            out = model(data)\n",
    "            loss = F.nll_loss(out, data.y)\n",
    "            loss.backward()\n",
    "            optimizer.step()\n",
    "            total_loss += loss.item()\n",
    "            correct_nodes += out.argmax(dim=1).eq(data.y).sum().item()\n",
    "            total_nodes += data.num_nodes\n",
    "\n",
    "            accuracy += correct_nodes / total_nodes\n",
    "            iou = jaccard_index(out.argmax(dim=-1), data.y,\n",
    "                                    num_classes=model.num_classes, task='multiclass')\n",
    "            ious.append(iou)\n",
    "\n",
    "            torch.cuda.empty_cache() \n",
    "\n",
    "            if i  % 10 == 0:\n",
    "                if verbose:\n",
    "                    train_log.set_description_str(f' Loss: {total_loss / 10:.4f} -'\n",
    "                          f' Train Acc: {correct_nodes / total_nodes:.4f} -'\n",
    "                            f' Train IoU: {iou:.4f} ')\n",
    "                total_loss = correct_nodes = total_nodes = 0\n",
    "        except:\n",
    "            print(data)\n",
    "        \n",
    "\n",
    "    accuracy /= len(all_train_files)\n",
    "    iou = torch.tensor(ious, device=device)\n",
    "    return accuracy, total_loss, iou\n",
    "                \n",
    "       "
   ]
  },
  {
   "cell_type": "code",
   "execution_count": 20,
   "id": "e5c3482d-8e72-40aa-9e9a-1d6519152bb7",
   "metadata": {
    "execution": {
     "iopub.execute_input": "2024-05-02T14:36:31.861237Z",
     "iopub.status.busy": "2024-05-02T14:36:31.860692Z",
     "iopub.status.idle": "2024-05-02T14:36:31.866483Z",
     "shell.execute_reply": "2024-05-02T14:36:31.864820Z",
     "shell.execute_reply.started": "2024-05-02T14:36:31.861189Z"
    }
   },
   "outputs": [],
   "source": [
    "# def multi_scale_train(tile_size = [15,25,50,100,200], verbose = True):\n",
    "#     acc = 0.0\n",
    "#     loss= 0.0\n",
    "#     for size in tile_size: \n",
    "#         print(f\"Training tile of size {size}\")\n",
    "#         train_dir = os.path.join( \"dales_tiled\", f\"tiles_{size}\" ,\"train\")\n",
    "#         train_dir = os.path.abspath(train_dir )\n",
    "#         acc_s, loss_s = train(train_dir, verbose = verbose)\n",
    "#         print(f'Tile Size: {size} Loss: {loss_s / 10:.4f} '\n",
    "#                       f'Train Acc: {acc_s:.4f}')\n",
    "#         acc  += acc_s\n",
    "#         loss += loss_s\n",
    "#     num_sizes = len(tile_sizes)\n",
    "#     return acc/num_sizes, loss/num_sizes"
   ]
  },
  {
   "cell_type": "markdown",
   "id": "38408eba-3320-40c4-87fc-15a218194aef",
   "metadata": {},
   "source": [
    "# Define test step"
   ]
  },
  {
   "cell_type": "code",
   "execution_count": 21,
   "id": "65ba4db1-7f97-4ac9-9163-49a731df31e6",
   "metadata": {
    "execution": {
     "iopub.execute_input": "2024-05-02T14:36:33.847449Z",
     "iopub.status.busy": "2024-05-02T14:36:33.846751Z",
     "iopub.status.idle": "2024-05-02T14:36:33.862477Z",
     "shell.execute_reply": "2024-05-02T14:36:33.860455Z",
     "shell.execute_reply.started": "2024-05-02T14:36:33.847388Z"
    }
   },
   "outputs": [],
   "source": [
    "@torch.no_grad()\n",
    "def test(test_dir,subset = None, verbose  = False):\n",
    "    model.eval()\n",
    "    \n",
    "    total_loss = correct_nodes = total_nodes = 0\n",
    "    accuracy = 0.0\n",
    "    ious = []\n",
    "    \n",
    "    all_test_files = os.listdir(osp.abspath(test_dir))\n",
    "    \n",
    "    if subset is not None: \n",
    "        all_test_files = np.random.choice(all_test_files, 10)\n",
    "        \n",
    "    \n",
    "    for i, test_file in enumerate(all_test_files):\n",
    "        data = convertData( os.path.join(test_dir, test_file))\n",
    "        data = data.to(device)\n",
    "        out = model(data)\n",
    "        \n",
    "        loss = F.nll_loss(out, data.y)\n",
    "        total_loss += loss.item()\n",
    "        \n",
    "        correct_nodes += out.argmax(dim=1).eq(data.y).sum().item()\n",
    "        total_nodes += data.num_nodes\n",
    "        \n",
    "        accuracy += correct_nodes / total_nodes\n",
    "        \n",
    "        iou = jaccard_index(out.argmax(dim=-1), data.y,\n",
    "                                num_classes=model.num_classes, task='multiclass')\n",
    "        ious.append(iou)\n",
    "\n",
    "    iou = torch.tensor(ious, device=device)\n",
    "    accuracy /= len(all_test_files)\n",
    "    total_loss /= len(all_test_files)\n",
    "    return accuracy,  total_loss, float(iou.mean())  # Global IoU."
   ]
  },
  {
   "cell_type": "code",
   "execution_count": 22,
   "id": "91819bec-5dd1-40da-a9e7-de9606eeb308",
   "metadata": {
    "execution": {
     "iopub.execute_input": "2024-05-02T14:36:35.111143Z",
     "iopub.status.busy": "2024-05-02T14:36:35.110546Z",
     "iopub.status.idle": "2024-05-02T14:36:39.440016Z",
     "shell.execute_reply": "2024-05-02T14:36:39.438199Z",
     "shell.execute_reply.started": "2024-05-02T14:36:35.111087Z"
    }
   },
   "outputs": [
    {
     "name": "stdout",
     "output_type": "stream",
     "text": [
      "0.009977349155036145 2.2988789319992065 0.003090276848524809\n"
     ]
    }
   ],
   "source": [
    "test_acc, test_loss, test_iou = test(TEST_DIR, subset = 10)\n",
    "print(test_acc, test_loss, test_iou)"
   ]
  },
  {
   "cell_type": "markdown",
   "id": "0eddfb21-048b-4236-8e01-b47a53d1c000",
   "metadata": {},
   "source": [
    "# Run training"
   ]
  },
  {
   "cell_type": "code",
   "execution_count": null,
   "id": "1269f911-568d-45ed-b000-83b1367e9ce7",
   "metadata": {
    "execution": {
     "iopub.execute_input": "2024-05-02T14:36:42.591102Z",
     "iopub.status.busy": "2024-05-02T14:36:42.590530Z"
    }
   },
   "outputs": [
    {
     "name": "stdout",
     "output_type": "stream",
     "text": [
      "Initialize test IoU = 0.0\n",
      "Initialize accuracy = 0.0\n"
     ]
    },
    {
     "data": {
      "application/vnd.jupyter.widget-view+json": {
       "model_id": "343368ee5146460c81bd462945e27d00",
       "version_major": 2,
       "version_minor": 0
      },
      "text/plain": [
       "  0%|          | 0/30 [00:00<?, ?it/s]"
      ]
     },
     "metadata": {},
     "output_type": "display_data"
    },
    {
     "data": {
      "application/vnd.jupyter.widget-view+json": {
       "model_id": "d7eecf32beca4f8eba3264b75010a712",
       "version_major": 2,
       "version_minor": 0
      },
      "text/plain": [
       "  0%|          | 0/2415 [00:00<?, ?it/s]"
      ]
     },
     "metadata": {},
     "output_type": "display_data"
    },
    {
     "name": "stdout",
     "output_type": "stream",
     "text": [
      "Saving best model with IoU:0.1371 and Acc:0.68\n"
     ]
    },
    {
     "data": {
      "application/vnd.jupyter.widget-view+json": {
       "model_id": "27df90fb46e14ac0a61e411ae97c9e20",
       "version_major": 2,
       "version_minor": 0
      },
      "text/plain": [
       "  0%|          | 0/2415 [00:00<?, ?it/s]"
      ]
     },
     "metadata": {},
     "output_type": "display_data"
    },
    {
     "data": {
      "application/vnd.jupyter.widget-view+json": {
       "model_id": "d597bf9b6c5c49549cef720ec9ceaf23",
       "version_major": 2,
       "version_minor": 0
      },
      "text/plain": [
       "  0%|          | 0/2415 [00:00<?, ?it/s]"
      ]
     },
     "metadata": {},
     "output_type": "display_data"
    },
    {
     "data": {
      "application/vnd.jupyter.widget-view+json": {
       "model_id": "5fda227de89b4fcba956de3412249615",
       "version_major": 2,
       "version_minor": 0
      },
      "text/plain": [
       "  0%|          | 0/2415 [00:00<?, ?it/s]"
      ]
     },
     "metadata": {},
     "output_type": "display_data"
    },
    {
     "data": {
      "application/vnd.jupyter.widget-view+json": {
       "model_id": "127d257289684cf08d9da1201eeb4d40",
       "version_major": 2,
       "version_minor": 0
      },
      "text/plain": [
       "  0%|          | 0/2415 [00:00<?, ?it/s]"
      ]
     },
     "metadata": {},
     "output_type": "display_data"
    },
    {
     "data": {
      "application/vnd.jupyter.widget-view+json": {
       "model_id": "83969771976a469fb1ba7c84e053dc50",
       "version_major": 2,
       "version_minor": 0
      },
      "text/plain": [
       "  0%|          | 0/2415 [00:00<?, ?it/s]"
      ]
     },
     "metadata": {},
     "output_type": "display_data"
    },
    {
     "name": "stdout",
     "output_type": "stream",
     "text": [
      "Saving best model with IoU:0.3177 and Acc:0.86\n"
     ]
    },
    {
     "data": {
      "application/vnd.jupyter.widget-view+json": {
       "model_id": "57dca1da537449318f3288ff954a919f",
       "version_major": 2,
       "version_minor": 0
      },
      "text/plain": [
       "  0%|          | 0/2415 [00:00<?, ?it/s]"
      ]
     },
     "metadata": {},
     "output_type": "display_data"
    },
    {
     "data": {
      "application/vnd.jupyter.widget-view+json": {
       "model_id": "cdc644d0e56c4bbd8f4d4e05301e25b4",
       "version_major": 2,
       "version_minor": 0
      },
      "text/plain": [
       "  0%|          | 0/2415 [00:00<?, ?it/s]"
      ]
     },
     "metadata": {},
     "output_type": "display_data"
    },
    {
     "data": {
      "application/vnd.jupyter.widget-view+json": {
       "model_id": "571eda22277f41568d9359b6cd47d1b1",
       "version_major": 2,
       "version_minor": 0
      },
      "text/plain": [
       "  0%|          | 0/2415 [00:00<?, ?it/s]"
      ]
     },
     "metadata": {},
     "output_type": "display_data"
    },
    {
     "data": {
      "application/vnd.jupyter.widget-view+json": {
       "model_id": "983a58f20a0d46eebe9a09b41bb76671",
       "version_major": 2,
       "version_minor": 0
      },
      "text/plain": [
       "  0%|          | 0/2415 [00:00<?, ?it/s]"
      ]
     },
     "metadata": {},
     "output_type": "display_data"
    },
    {
     "data": {
      "application/vnd.jupyter.widget-view+json": {
       "model_id": "36777895bb3e493ba007e049a1f98537",
       "version_major": 2,
       "version_minor": 0
      },
      "text/plain": [
       "  0%|          | 0/2415 [00:00<?, ?it/s]"
      ]
     },
     "metadata": {},
     "output_type": "display_data"
    },
    {
     "data": {
      "application/vnd.jupyter.widget-view+json": {
       "model_id": "a57b5450c79249c59e9d5b75c7906fb2",
       "version_major": 2,
       "version_minor": 0
      },
      "text/plain": [
       "  0%|          | 0/2415 [00:00<?, ?it/s]"
      ]
     },
     "metadata": {},
     "output_type": "display_data"
    },
    {
     "data": {
      "application/vnd.jupyter.widget-view+json": {
       "model_id": "5417a9aee5ff4c0c9ce35a76a84777bf",
       "version_major": 2,
       "version_minor": 0
      },
      "text/plain": [
       "  0%|          | 0/2415 [00:00<?, ?it/s]"
      ]
     },
     "metadata": {},
     "output_type": "display_data"
    },
    {
     "data": {
      "application/vnd.jupyter.widget-view+json": {
       "model_id": "fb3b6423345f456c9abb9e447a32e3a2",
       "version_major": 2,
       "version_minor": 0
      },
      "text/plain": [
       "  0%|          | 0/2415 [00:00<?, ?it/s]"
      ]
     },
     "metadata": {},
     "output_type": "display_data"
    },
    {
     "data": {
      "application/vnd.jupyter.widget-view+json": {
       "model_id": "e09fb2dffdb842eba14dbec98c5f2def",
       "version_major": 2,
       "version_minor": 0
      },
      "text/plain": [
       "  0%|          | 0/2415 [00:00<?, ?it/s]"
      ]
     },
     "metadata": {},
     "output_type": "display_data"
    },
    {
     "data": {
      "application/vnd.jupyter.widget-view+json": {
       "model_id": "219f8c9cd74d42e985518122b3c46855",
       "version_major": 2,
       "version_minor": 0
      },
      "text/plain": [
       "  0%|          | 0/2415 [00:00<?, ?it/s]"
      ]
     },
     "metadata": {},
     "output_type": "display_data"
    },
    {
     "data": {
      "application/vnd.jupyter.widget-view+json": {
       "model_id": "c094d9f1e240406fad8b27cd580a756a",
       "version_major": 2,
       "version_minor": 0
      },
      "text/plain": [
       "  0%|          | 0/2415 [00:00<?, ?it/s]"
      ]
     },
     "metadata": {},
     "output_type": "display_data"
    },
    {
     "data": {
      "application/vnd.jupyter.widget-view+json": {
       "model_id": "e9cb3fe9be2f4c069d7ee9ee9af95c36",
       "version_major": 2,
       "version_minor": 0
      },
      "text/plain": [
       "  0%|          | 0/2415 [00:00<?, ?it/s]"
      ]
     },
     "metadata": {},
     "output_type": "display_data"
    }
   ],
   "source": [
    "try:\n",
    "    best_iou = checkpoint['test_iou']\n",
    "    print(f\"Loading previous test iou from check point: {best_iou}\")\n",
    "\n",
    "except:\n",
    "    print('Initialize test IoU = 0.0') \n",
    "    best_iou = 0.0\n",
    "\n",
    "try:\n",
    "    print(f\"Loading previous accuracy from check point: {checkpoint['accuracy']}\")\n",
    "    best_acc = checkpoint['accuracy']\n",
    "except:\n",
    "    print('Initialize accuracy = 0.0') \n",
    "    best_acc = 0.0\n",
    "\n",
    "epoch_log = tqdm(range(1, 31), total = len(range(1, 31)), position = 0)\n",
    "epoch_log.set_description_str(f'Epoch: 1, Acc: {best_acc:.2f} Test IoU: {best_iou:.4f}')\n",
    "\n",
    "for epoch in epoch_log:\n",
    "    acc, loss, train_iou = train()\n",
    "    test_acc, test_loss, test_iou = test(TEST_DIR, subset = 10)\n",
    "    \n",
    "    epoch_log.set_description_str(f'Epoch: {epoch:02d}, Acc: {test_acc:.2f} Test IoU: {test_iou:.4f}')\n",
    "    if test_iou>best_iou or test_acc> best_acc: \n",
    "        best_iou = test_iou if best_iou < test_iou else best_iou\n",
    "        best_acc = acc if best_acc < acc else best_acc\n",
    "        #Save model\n",
    "        print(f\"Saving best model with IoU:{test_iou:.4f} and Acc:{acc:.2f}\")\n",
    "        torch.save({'epoch': epoch,\n",
    "                'model_state_dict': model.state_dict(),\n",
    "                'optimizer_state_dict': optimizer.state_dict(),\n",
    "                'loss': loss,\n",
    "                'accuracy': best_acc, \n",
    "                 'test_iou': best_iou}, \n",
    "            'models/best.pt')\n",
    "\n",
    "   "
   ]
  },
  {
   "cell_type": "code",
   "execution_count": null,
   "id": "0fabdbec-3ad4-434a-bf04-905bb6e6c99c",
   "metadata": {},
   "outputs": [],
   "source": []
  },
  {
   "cell_type": "code",
   "execution_count": 98,
   "id": "8a564dca-cadf-4179-bf4a-234e5a48fa07",
   "metadata": {
    "execution": {
     "iopub.execute_input": "2024-04-29T15:43:35.422189Z",
     "iopub.status.busy": "2024-04-29T15:43:35.421573Z",
     "iopub.status.idle": "2024-04-29T15:43:35.458756Z",
     "shell.execute_reply": "2024-04-29T15:43:35.455198Z",
     "shell.execute_reply.started": "2024-04-29T15:43:35.422144Z"
    }
   },
   "outputs": [],
   "source": [
    "from sklearn.metrics import confusion_matrix\n",
    "\n",
    "@torch.no_grad()\n",
    "def evaluate(subset = 10):\n",
    "        \n",
    "    model.eval()\n",
    "    all_test_files = os.listdir(osp.abspath(TEST_DIR))\n",
    "    if subset is not None: \n",
    "        all_test_files = np.random.choice(all_test_files, 10)\n",
    "        \n",
    "    outs= []\n",
    "    ys  = []\n",
    "    \n",
    "    for i, test_file in tqdm(enumerate(all_test_files), total = len(all_test_files)):\n",
    "        data = convertData( os.path.join(TEST_DIR, test_file))\n",
    "        data = data.to(device)\n",
    "        outs.append(   model(data).argmax(dim = 1).cpu().numpy().astype(np.uint8))\n",
    "        ys.append(data.y.cpu().numpy().astype(np.uint8))\n",
    "    \n",
    "    outs = np.hstack(outs, dtype = np.uint8)\n",
    "    ys = np.hstack(ys, dtype = np.uint8)\n",
    "    \n",
    "    confusions = confusion_matrix(ys, outs)\n",
    "    \n",
    "    ConfusionMatrixDisplay.from_predictions( ys, outs, normalize = \"true\", display_labels=[\"Unknown\", \"Ground\", \"Vegetation\", \"Car\", \"Truck\", \"Powerline\", \"Fences\", \"Poles\", \"Building\"])\n",
    "    \n",
    "    TP = np.diagonal(confusions, axis1=-2, axis2=-1)\n",
    "    TP_plus_FP = np.sum(confusions, axis=-1)\n",
    "    TP_plus_FN = np.sum(confusions, axis=-2)\n",
    "\n",
    "    # Compute precision and recall. This assume that the second to last axis counts the truths (like the first axis of\n",
    "    # a confusion matrix), and that the last axis counts the predictions (like the second axis of a confusion matrix)\n",
    "    precision = TP / (TP_plus_FN + 1e-6)\n",
    "    recall = TP / (TP_plus_FP + 1e-6)\n",
    "\n",
    "    # Compute Accuracy\n",
    "    acc = np.sum(TP, axis=-1) / (np.sum(confusions, axis=(-2, -1)) + 1e-6)\n",
    "\n",
    "    # Compute F1 score\n",
    "    f1 = 2 * TP / (TP_plus_FP + TP_plus_FN + 1e-6)\n",
    "\n",
    "    # Compute IoU\n",
    "    iou = f1 / (2 - f1)\n",
    "\n",
    "    return confusions, precision, recall, f1, iou, acc"
   ]
  },
  {
   "cell_type": "markdown",
   "id": "e1573281-4242-4d7e-a8ca-e1547e15c189",
   "metadata": {},
   "source": [
    "# Experiments"
   ]
  },
  {
   "cell_type": "code",
   "execution_count": 94,
   "id": "d189e33c-377e-4355-b952-884d8c4e11c4",
   "metadata": {
    "execution": {
     "iopub.execute_input": "2024-04-29T15:42:43.398771Z",
     "iopub.status.busy": "2024-04-29T15:42:43.398183Z",
     "iopub.status.idle": "2024-04-29T15:42:46.945641Z",
     "shell.execute_reply": "2024-04-29T15:42:46.888287Z",
     "shell.execute_reply.started": "2024-04-29T15:42:43.398725Z"
    }
   },
   "outputs": [
    {
     "data": {
      "application/vnd.jupyter.widget-view+json": {
       "model_id": "b9192e2a044b4ae1acd6a56a2e4beda6",
       "version_major": 2,
       "version_minor": 0
      },
      "text/plain": [
       "  0%|          | 0/5 [00:00<?, ?it/s]"
      ]
     },
     "metadata": {},
     "output_type": "display_data"
    },
    {
     "data": {
      "application/vnd.jupyter.widget-view+json": {
       "model_id": "f0f874da5372490da714ad7fcc771010",
       "version_major": 2,
       "version_minor": 0
      },
      "text/plain": [
       "  0%|          | 0/1225 [00:00<?, ?it/s]"
      ]
     },
     "metadata": {},
     "output_type": "display_data"
    },
    {
     "ename": "KeyboardInterrupt",
     "evalue": "",
     "output_type": "error",
     "traceback": [
      "\u001b[0;31m---------------------------------------------------------------------------\u001b[0m",
      "\u001b[0;31mKeyboardInterrupt\u001b[0m                         Traceback (most recent call last)",
      "\u001b[0;32m<ipython-input-94-a7a3893c5b12>\u001b[0m in \u001b[0;36m<module>\u001b[0;34m\u001b[0m\n\u001b[1;32m     13\u001b[0m     \u001b[0mmodel\u001b[0m\u001b[0;34m.\u001b[0m\u001b[0mload_state_dict\u001b[0m\u001b[0;34m(\u001b[0m\u001b[0mcheckpoint\u001b[0m\u001b[0;34m[\u001b[0m\u001b[0;34m'model_state_dict'\u001b[0m\u001b[0;34m]\u001b[0m\u001b[0;34m)\u001b[0m\u001b[0;34m\u001b[0m\u001b[0;34m\u001b[0m\u001b[0m\n\u001b[1;32m     14\u001b[0m \u001b[0;34m\u001b[0m\u001b[0m\n\u001b[0;32m---> 15\u001b[0;31m     \u001b[0mps\u001b[0m\u001b[0;34m,\u001b[0m \u001b[0mrc\u001b[0m \u001b[0;34m,\u001b[0m\u001b[0mf1\u001b[0m\u001b[0;34m,\u001b[0m \u001b[0miou\u001b[0m\u001b[0;34m,\u001b[0m \u001b[0macc\u001b[0m \u001b[0;34m=\u001b[0m \u001b[0mevaluate\u001b[0m\u001b[0;34m(\u001b[0m\u001b[0msubset\u001b[0m \u001b[0;34m=\u001b[0m \u001b[0;32mNone\u001b[0m\u001b[0;34m)\u001b[0m\u001b[0;34m\u001b[0m\u001b[0;34m\u001b[0m\u001b[0m\n\u001b[0m\u001b[1;32m     16\u001b[0m     \u001b[0mprecisions\u001b[0m\u001b[0;34m.\u001b[0m\u001b[0mappend\u001b[0m\u001b[0;34m(\u001b[0m\u001b[0mps\u001b[0m\u001b[0;34m.\u001b[0m\u001b[0mmean\u001b[0m\u001b[0;34m(\u001b[0m\u001b[0;34m)\u001b[0m\u001b[0;34m)\u001b[0m\u001b[0;34m\u001b[0m\u001b[0;34m\u001b[0m\u001b[0m\n\u001b[1;32m     17\u001b[0m     \u001b[0mrecalls\u001b[0m\u001b[0;34m.\u001b[0m\u001b[0mappend\u001b[0m\u001b[0;34m(\u001b[0m\u001b[0mrc\u001b[0m\u001b[0;34m.\u001b[0m\u001b[0mmean\u001b[0m\u001b[0;34m(\u001b[0m\u001b[0;34m)\u001b[0m\u001b[0;34m)\u001b[0m\u001b[0;34m\u001b[0m\u001b[0;34m\u001b[0m\u001b[0m\n",
      "\u001b[0;32m/usr/local/lib/python3.8/dist-packages/torch/utils/_contextlib.py\u001b[0m in \u001b[0;36mdecorate_context\u001b[0;34m(*args, **kwargs)\u001b[0m\n\u001b[1;32m    113\u001b[0m     \u001b[0;32mdef\u001b[0m \u001b[0mdecorate_context\u001b[0m\u001b[0;34m(\u001b[0m\u001b[0;34m*\u001b[0m\u001b[0margs\u001b[0m\u001b[0;34m,\u001b[0m \u001b[0;34m**\u001b[0m\u001b[0mkwargs\u001b[0m\u001b[0;34m)\u001b[0m\u001b[0;34m:\u001b[0m\u001b[0;34m\u001b[0m\u001b[0;34m\u001b[0m\u001b[0m\n\u001b[1;32m    114\u001b[0m         \u001b[0;32mwith\u001b[0m \u001b[0mctx_factory\u001b[0m\u001b[0;34m(\u001b[0m\u001b[0;34m)\u001b[0m\u001b[0;34m:\u001b[0m\u001b[0;34m\u001b[0m\u001b[0;34m\u001b[0m\u001b[0m\n\u001b[0;32m--> 115\u001b[0;31m             \u001b[0;32mreturn\u001b[0m \u001b[0mfunc\u001b[0m\u001b[0;34m(\u001b[0m\u001b[0;34m*\u001b[0m\u001b[0margs\u001b[0m\u001b[0;34m,\u001b[0m \u001b[0;34m**\u001b[0m\u001b[0mkwargs\u001b[0m\u001b[0;34m)\u001b[0m\u001b[0;34m\u001b[0m\u001b[0;34m\u001b[0m\u001b[0m\n\u001b[0m\u001b[1;32m    116\u001b[0m \u001b[0;34m\u001b[0m\u001b[0m\n\u001b[1;32m    117\u001b[0m     \u001b[0;32mreturn\u001b[0m \u001b[0mdecorate_context\u001b[0m\u001b[0;34m\u001b[0m\u001b[0;34m\u001b[0m\u001b[0m\n",
      "\u001b[0;32m<ipython-input-93-54c71c3d076a>\u001b[0m in \u001b[0;36mevaluate\u001b[0;34m(subset)\u001b[0m\n\u001b[1;32m     15\u001b[0m         \u001b[0mdata\u001b[0m \u001b[0;34m=\u001b[0m \u001b[0mconvertData\u001b[0m\u001b[0;34m(\u001b[0m \u001b[0mos\u001b[0m\u001b[0;34m.\u001b[0m\u001b[0mpath\u001b[0m\u001b[0;34m.\u001b[0m\u001b[0mjoin\u001b[0m\u001b[0;34m(\u001b[0m\u001b[0mTEST_DIR\u001b[0m\u001b[0;34m,\u001b[0m \u001b[0mtest_file\u001b[0m\u001b[0;34m)\u001b[0m\u001b[0;34m)\u001b[0m\u001b[0;34m\u001b[0m\u001b[0;34m\u001b[0m\u001b[0m\n\u001b[1;32m     16\u001b[0m         \u001b[0mdata\u001b[0m \u001b[0;34m=\u001b[0m \u001b[0mdata\u001b[0m\u001b[0;34m.\u001b[0m\u001b[0mto\u001b[0m\u001b[0;34m(\u001b[0m\u001b[0mdevice\u001b[0m\u001b[0;34m)\u001b[0m\u001b[0;34m\u001b[0m\u001b[0;34m\u001b[0m\u001b[0m\n\u001b[0;32m---> 17\u001b[0;31m         \u001b[0mouts\u001b[0m\u001b[0;34m.\u001b[0m\u001b[0mappend\u001b[0m\u001b[0;34m(\u001b[0m   \u001b[0mmodel\u001b[0m\u001b[0;34m(\u001b[0m\u001b[0mdata\u001b[0m\u001b[0;34m)\u001b[0m\u001b[0;34m.\u001b[0m\u001b[0margmax\u001b[0m\u001b[0;34m(\u001b[0m\u001b[0mdim\u001b[0m \u001b[0;34m=\u001b[0m \u001b[0;36m1\u001b[0m\u001b[0;34m)\u001b[0m\u001b[0;34m.\u001b[0m\u001b[0mcpu\u001b[0m\u001b[0;34m(\u001b[0m\u001b[0;34m)\u001b[0m\u001b[0;34m.\u001b[0m\u001b[0mnumpy\u001b[0m\u001b[0;34m(\u001b[0m\u001b[0;34m)\u001b[0m\u001b[0;34m.\u001b[0m\u001b[0mastype\u001b[0m\u001b[0;34m(\u001b[0m\u001b[0mnp\u001b[0m\u001b[0;34m.\u001b[0m\u001b[0muint8\u001b[0m\u001b[0;34m)\u001b[0m\u001b[0;34m)\u001b[0m\u001b[0;34m\u001b[0m\u001b[0;34m\u001b[0m\u001b[0m\n\u001b[0m\u001b[1;32m     18\u001b[0m         \u001b[0mys\u001b[0m\u001b[0;34m.\u001b[0m\u001b[0mappend\u001b[0m\u001b[0;34m(\u001b[0m\u001b[0mdata\u001b[0m\u001b[0;34m.\u001b[0m\u001b[0my\u001b[0m\u001b[0;34m.\u001b[0m\u001b[0mcpu\u001b[0m\u001b[0;34m(\u001b[0m\u001b[0;34m)\u001b[0m\u001b[0;34m.\u001b[0m\u001b[0mnumpy\u001b[0m\u001b[0;34m(\u001b[0m\u001b[0;34m)\u001b[0m\u001b[0;34m.\u001b[0m\u001b[0mastype\u001b[0m\u001b[0;34m(\u001b[0m\u001b[0mnp\u001b[0m\u001b[0;34m.\u001b[0m\u001b[0muint8\u001b[0m\u001b[0;34m)\u001b[0m\u001b[0;34m)\u001b[0m\u001b[0;34m\u001b[0m\u001b[0;34m\u001b[0m\u001b[0m\n\u001b[1;32m     19\u001b[0m \u001b[0;34m\u001b[0m\u001b[0m\n",
      "\u001b[0;32m/usr/local/lib/python3.8/dist-packages/torch/nn/modules/module.py\u001b[0m in \u001b[0;36m_wrapped_call_impl\u001b[0;34m(self, *args, **kwargs)\u001b[0m\n\u001b[1;32m   1509\u001b[0m             \u001b[0;32mreturn\u001b[0m \u001b[0mself\u001b[0m\u001b[0;34m.\u001b[0m\u001b[0m_compiled_call_impl\u001b[0m\u001b[0;34m(\u001b[0m\u001b[0;34m*\u001b[0m\u001b[0margs\u001b[0m\u001b[0;34m,\u001b[0m \u001b[0;34m**\u001b[0m\u001b[0mkwargs\u001b[0m\u001b[0;34m)\u001b[0m  \u001b[0;31m# type: ignore[misc]\u001b[0m\u001b[0;34m\u001b[0m\u001b[0;34m\u001b[0m\u001b[0m\n\u001b[1;32m   1510\u001b[0m         \u001b[0;32melse\u001b[0m\u001b[0;34m:\u001b[0m\u001b[0;34m\u001b[0m\u001b[0;34m\u001b[0m\u001b[0m\n\u001b[0;32m-> 1511\u001b[0;31m             \u001b[0;32mreturn\u001b[0m \u001b[0mself\u001b[0m\u001b[0;34m.\u001b[0m\u001b[0m_call_impl\u001b[0m\u001b[0;34m(\u001b[0m\u001b[0;34m*\u001b[0m\u001b[0margs\u001b[0m\u001b[0;34m,\u001b[0m \u001b[0;34m**\u001b[0m\u001b[0mkwargs\u001b[0m\u001b[0;34m)\u001b[0m\u001b[0;34m\u001b[0m\u001b[0;34m\u001b[0m\u001b[0m\n\u001b[0m\u001b[1;32m   1512\u001b[0m \u001b[0;34m\u001b[0m\u001b[0m\n\u001b[1;32m   1513\u001b[0m     \u001b[0;32mdef\u001b[0m \u001b[0m_call_impl\u001b[0m\u001b[0;34m(\u001b[0m\u001b[0mself\u001b[0m\u001b[0;34m,\u001b[0m \u001b[0;34m*\u001b[0m\u001b[0margs\u001b[0m\u001b[0;34m,\u001b[0m \u001b[0;34m**\u001b[0m\u001b[0mkwargs\u001b[0m\u001b[0;34m)\u001b[0m\u001b[0;34m:\u001b[0m\u001b[0;34m\u001b[0m\u001b[0;34m\u001b[0m\u001b[0m\n",
      "\u001b[0;32m/usr/local/lib/python3.8/dist-packages/torch/nn/modules/module.py\u001b[0m in \u001b[0;36m_call_impl\u001b[0;34m(self, *args, **kwargs)\u001b[0m\n\u001b[1;32m   1518\u001b[0m                 \u001b[0;32mor\u001b[0m \u001b[0m_global_backward_pre_hooks\u001b[0m \u001b[0;32mor\u001b[0m \u001b[0m_global_backward_hooks\u001b[0m\u001b[0;34m\u001b[0m\u001b[0;34m\u001b[0m\u001b[0m\n\u001b[1;32m   1519\u001b[0m                 or _global_forward_hooks or _global_forward_pre_hooks):\n\u001b[0;32m-> 1520\u001b[0;31m             \u001b[0;32mreturn\u001b[0m \u001b[0mforward_call\u001b[0m\u001b[0;34m(\u001b[0m\u001b[0;34m*\u001b[0m\u001b[0margs\u001b[0m\u001b[0;34m,\u001b[0m \u001b[0;34m**\u001b[0m\u001b[0mkwargs\u001b[0m\u001b[0;34m)\u001b[0m\u001b[0;34m\u001b[0m\u001b[0;34m\u001b[0m\u001b[0m\n\u001b[0m\u001b[1;32m   1521\u001b[0m \u001b[0;34m\u001b[0m\u001b[0m\n\u001b[1;32m   1522\u001b[0m         \u001b[0;32mtry\u001b[0m\u001b[0;34m:\u001b[0m\u001b[0;34m\u001b[0m\u001b[0;34m\u001b[0m\u001b[0m\n",
      "\u001b[0;32m<ipython-input-69-b1b6bc4ed584>\u001b[0m in \u001b[0;36mforward\u001b[0;34m(self, data)\u001b[0m\n\u001b[1;32m     24\u001b[0m     \u001b[0;32mdef\u001b[0m \u001b[0mforward\u001b[0m\u001b[0;34m(\u001b[0m\u001b[0mself\u001b[0m\u001b[0;34m,\u001b[0m \u001b[0mdata\u001b[0m\u001b[0;34m)\u001b[0m\u001b[0;34m:\u001b[0m\u001b[0;34m\u001b[0m\u001b[0;34m\u001b[0m\u001b[0m\n\u001b[1;32m     25\u001b[0m         \u001b[0msa0_out\u001b[0m \u001b[0;34m=\u001b[0m \u001b[0;34m(\u001b[0m\u001b[0mdata\u001b[0m\u001b[0;34m.\u001b[0m\u001b[0mx\u001b[0m\u001b[0;34m,\u001b[0m \u001b[0mdata\u001b[0m\u001b[0;34m.\u001b[0m\u001b[0mpos\u001b[0m\u001b[0;34m,\u001b[0m \u001b[0mdata\u001b[0m\u001b[0;34m.\u001b[0m\u001b[0mbatch\u001b[0m\u001b[0;34m)\u001b[0m\u001b[0;34m\u001b[0m\u001b[0;34m\u001b[0m\u001b[0m\n\u001b[0;32m---> 26\u001b[0;31m         \u001b[0msa1_out\u001b[0m \u001b[0;34m=\u001b[0m \u001b[0mself\u001b[0m\u001b[0;34m.\u001b[0m\u001b[0msa1_module\u001b[0m\u001b[0;34m(\u001b[0m\u001b[0;34m*\u001b[0m\u001b[0msa0_out\u001b[0m\u001b[0;34m)\u001b[0m\u001b[0;34m\u001b[0m\u001b[0;34m\u001b[0m\u001b[0m\n\u001b[0m\u001b[1;32m     27\u001b[0m         \u001b[0msa2_out\u001b[0m \u001b[0;34m=\u001b[0m \u001b[0mself\u001b[0m\u001b[0;34m.\u001b[0m\u001b[0msa2_module\u001b[0m\u001b[0;34m(\u001b[0m\u001b[0;34m*\u001b[0m\u001b[0msa1_out\u001b[0m\u001b[0;34m)\u001b[0m\u001b[0;34m\u001b[0m\u001b[0;34m\u001b[0m\u001b[0m\n\u001b[1;32m     28\u001b[0m         \u001b[0msa3_out\u001b[0m \u001b[0;34m=\u001b[0m \u001b[0mself\u001b[0m\u001b[0;34m.\u001b[0m\u001b[0msa3_module\u001b[0m\u001b[0;34m(\u001b[0m\u001b[0;34m*\u001b[0m\u001b[0msa2_out\u001b[0m\u001b[0;34m)\u001b[0m\u001b[0;34m\u001b[0m\u001b[0;34m\u001b[0m\u001b[0m\n",
      "\u001b[0;32m/usr/local/lib/python3.8/dist-packages/torch/nn/modules/module.py\u001b[0m in \u001b[0;36m_wrapped_call_impl\u001b[0;34m(self, *args, **kwargs)\u001b[0m\n\u001b[1;32m   1509\u001b[0m             \u001b[0;32mreturn\u001b[0m \u001b[0mself\u001b[0m\u001b[0;34m.\u001b[0m\u001b[0m_compiled_call_impl\u001b[0m\u001b[0;34m(\u001b[0m\u001b[0;34m*\u001b[0m\u001b[0margs\u001b[0m\u001b[0;34m,\u001b[0m \u001b[0;34m**\u001b[0m\u001b[0mkwargs\u001b[0m\u001b[0;34m)\u001b[0m  \u001b[0;31m# type: ignore[misc]\u001b[0m\u001b[0;34m\u001b[0m\u001b[0;34m\u001b[0m\u001b[0m\n\u001b[1;32m   1510\u001b[0m         \u001b[0;32melse\u001b[0m\u001b[0;34m:\u001b[0m\u001b[0;34m\u001b[0m\u001b[0;34m\u001b[0m\u001b[0m\n\u001b[0;32m-> 1511\u001b[0;31m             \u001b[0;32mreturn\u001b[0m \u001b[0mself\u001b[0m\u001b[0;34m.\u001b[0m\u001b[0m_call_impl\u001b[0m\u001b[0;34m(\u001b[0m\u001b[0;34m*\u001b[0m\u001b[0margs\u001b[0m\u001b[0;34m,\u001b[0m \u001b[0;34m**\u001b[0m\u001b[0mkwargs\u001b[0m\u001b[0;34m)\u001b[0m\u001b[0;34m\u001b[0m\u001b[0;34m\u001b[0m\u001b[0m\n\u001b[0m\u001b[1;32m   1512\u001b[0m \u001b[0;34m\u001b[0m\u001b[0m\n\u001b[1;32m   1513\u001b[0m     \u001b[0;32mdef\u001b[0m \u001b[0m_call_impl\u001b[0m\u001b[0;34m(\u001b[0m\u001b[0mself\u001b[0m\u001b[0;34m,\u001b[0m \u001b[0;34m*\u001b[0m\u001b[0margs\u001b[0m\u001b[0;34m,\u001b[0m \u001b[0;34m**\u001b[0m\u001b[0mkwargs\u001b[0m\u001b[0;34m)\u001b[0m\u001b[0;34m:\u001b[0m\u001b[0;34m\u001b[0m\u001b[0;34m\u001b[0m\u001b[0m\n",
      "\u001b[0;32m/usr/local/lib/python3.8/dist-packages/torch/nn/modules/module.py\u001b[0m in \u001b[0;36m_call_impl\u001b[0;34m(self, *args, **kwargs)\u001b[0m\n\u001b[1;32m   1518\u001b[0m                 \u001b[0;32mor\u001b[0m \u001b[0m_global_backward_pre_hooks\u001b[0m \u001b[0;32mor\u001b[0m \u001b[0m_global_backward_hooks\u001b[0m\u001b[0;34m\u001b[0m\u001b[0;34m\u001b[0m\u001b[0m\n\u001b[1;32m   1519\u001b[0m                 or _global_forward_hooks or _global_forward_pre_hooks):\n\u001b[0;32m-> 1520\u001b[0;31m             \u001b[0;32mreturn\u001b[0m \u001b[0mforward_call\u001b[0m\u001b[0;34m(\u001b[0m\u001b[0;34m*\u001b[0m\u001b[0margs\u001b[0m\u001b[0;34m,\u001b[0m \u001b[0;34m**\u001b[0m\u001b[0mkwargs\u001b[0m\u001b[0;34m)\u001b[0m\u001b[0;34m\u001b[0m\u001b[0;34m\u001b[0m\u001b[0m\n\u001b[0m\u001b[1;32m   1521\u001b[0m \u001b[0;34m\u001b[0m\u001b[0m\n\u001b[1;32m   1522\u001b[0m         \u001b[0;32mtry\u001b[0m\u001b[0;34m:\u001b[0m\u001b[0;34m\u001b[0m\u001b[0;34m\u001b[0m\u001b[0m\n",
      "\u001b[0;32m<ipython-input-65-658bf3c834fc>\u001b[0m in \u001b[0;36mforward\u001b[0;34m(self, x, pos, batch)\u001b[0m\n\u001b[1;32m      9\u001b[0m         \u001b[0midx\u001b[0m \u001b[0;34m=\u001b[0m \u001b[0mfps\u001b[0m\u001b[0;34m(\u001b[0m\u001b[0mpos\u001b[0m\u001b[0;34m,\u001b[0m \u001b[0mbatch\u001b[0m\u001b[0;34m,\u001b[0m \u001b[0mratio\u001b[0m\u001b[0;34m=\u001b[0m\u001b[0mself\u001b[0m\u001b[0;34m.\u001b[0m\u001b[0mratio\u001b[0m\u001b[0;34m)\u001b[0m\u001b[0;34m\u001b[0m\u001b[0;34m\u001b[0m\u001b[0m\n\u001b[1;32m     10\u001b[0m \u001b[0;34m\u001b[0m\u001b[0m\n\u001b[0;32m---> 11\u001b[0;31m         row, col = radius(pos, pos[idx], self.r, batch, batch[idx],\n\u001b[0m\u001b[1;32m     12\u001b[0m                           max_num_neighbors=64)\n\u001b[1;32m     13\u001b[0m         \u001b[0medge_index\u001b[0m \u001b[0;34m=\u001b[0m \u001b[0mtorch\u001b[0m\u001b[0;34m.\u001b[0m\u001b[0mstack\u001b[0m\u001b[0;34m(\u001b[0m\u001b[0;34m[\u001b[0m\u001b[0mcol\u001b[0m\u001b[0;34m,\u001b[0m \u001b[0mrow\u001b[0m\u001b[0;34m]\u001b[0m\u001b[0;34m,\u001b[0m \u001b[0mdim\u001b[0m\u001b[0;34m=\u001b[0m\u001b[0;36m0\u001b[0m\u001b[0;34m)\u001b[0m\u001b[0;34m\u001b[0m\u001b[0;34m\u001b[0m\u001b[0m\n",
      "\u001b[0;32m/usr/local/lib/python3.8/dist-packages/torch_geometric/nn/pool/__init__.py\u001b[0m in \u001b[0;36mradius\u001b[0;34m(x, y, r, batch_x, batch_y, max_num_neighbors, num_workers, batch_size)\u001b[0m\n\u001b[1;32m    230\u001b[0m         return torch_cluster.radius(x, y, r, batch_x, batch_y,\n\u001b[1;32m    231\u001b[0m                                     max_num_neighbors, num_workers)\n\u001b[0;32m--> 232\u001b[0;31m     return torch_cluster.radius(x, y, r, batch_x, batch_y, max_num_neighbors,\n\u001b[0m\u001b[1;32m    233\u001b[0m                                 num_workers, batch_size)\n\u001b[1;32m    234\u001b[0m \u001b[0;34m\u001b[0m\u001b[0m\n",
      "\u001b[0;32m/usr/local/lib/python3.8/dist-packages/torch_cluster/radius.py\u001b[0m in \u001b[0;36mradius\u001b[0;34m(x, y, r, batch_x, batch_y, max_num_neighbors, num_workers, batch_size)\u001b[0m\n\u001b[1;32m     64\u001b[0m         \u001b[0;32mif\u001b[0m \u001b[0mbatch_x\u001b[0m \u001b[0;32mis\u001b[0m \u001b[0;32mnot\u001b[0m \u001b[0;32mNone\u001b[0m\u001b[0;34m:\u001b[0m\u001b[0;34m\u001b[0m\u001b[0;34m\u001b[0m\u001b[0m\n\u001b[1;32m     65\u001b[0m             \u001b[0;32massert\u001b[0m \u001b[0mx\u001b[0m\u001b[0;34m.\u001b[0m\u001b[0msize\u001b[0m\u001b[0;34m(\u001b[0m\u001b[0;36m0\u001b[0m\u001b[0;34m)\u001b[0m \u001b[0;34m==\u001b[0m \u001b[0mbatch_x\u001b[0m\u001b[0;34m.\u001b[0m\u001b[0mnumel\u001b[0m\u001b[0;34m(\u001b[0m\u001b[0;34m)\u001b[0m\u001b[0;34m\u001b[0m\u001b[0;34m\u001b[0m\u001b[0m\n\u001b[0;32m---> 66\u001b[0;31m             \u001b[0mbatch_size\u001b[0m \u001b[0;34m=\u001b[0m \u001b[0mint\u001b[0m\u001b[0;34m(\u001b[0m\u001b[0mbatch_x\u001b[0m\u001b[0;34m.\u001b[0m\u001b[0mmax\u001b[0m\u001b[0;34m(\u001b[0m\u001b[0;34m)\u001b[0m\u001b[0;34m)\u001b[0m \u001b[0;34m+\u001b[0m \u001b[0;36m1\u001b[0m\u001b[0;34m\u001b[0m\u001b[0;34m\u001b[0m\u001b[0m\n\u001b[0m\u001b[1;32m     67\u001b[0m         \u001b[0;32mif\u001b[0m \u001b[0mbatch_y\u001b[0m \u001b[0;32mis\u001b[0m \u001b[0;32mnot\u001b[0m \u001b[0;32mNone\u001b[0m\u001b[0;34m:\u001b[0m\u001b[0;34m\u001b[0m\u001b[0;34m\u001b[0m\u001b[0m\n\u001b[1;32m     68\u001b[0m             \u001b[0;32massert\u001b[0m \u001b[0my\u001b[0m\u001b[0;34m.\u001b[0m\u001b[0msize\u001b[0m\u001b[0;34m(\u001b[0m\u001b[0;36m0\u001b[0m\u001b[0;34m)\u001b[0m \u001b[0;34m==\u001b[0m \u001b[0mbatch_y\u001b[0m\u001b[0;34m.\u001b[0m\u001b[0mnumel\u001b[0m\u001b[0;34m(\u001b[0m\u001b[0;34m)\u001b[0m\u001b[0;34m\u001b[0m\u001b[0;34m\u001b[0m\u001b[0m\n",
      "\u001b[0;31mKeyboardInterrupt\u001b[0m: "
     ]
    }
   ],
   "source": [
    "#Testing with different sampling size: \n",
    "precisions = [] \n",
    "recalls = []\n",
    "accs = [] \n",
    "f1s = []\n",
    "ious = [] \n",
    "accs = []\n",
    "\n",
    "for sampling_ratio in tqdm([0.1, 0.2, 0.3, 0.4, 0.5], total = 5): \n",
    "    device = torch.device('cuda' if torch.cuda.is_available() else 'cpu')\n",
    "    model = create_model( sampling_ratio = [sampling_ratio]*3).to(device)\n",
    "    checkpoint = torch.load('models/deep_relu.pt')\n",
    "    model.load_state_dict(checkpoint['model_state_dict'])\n",
    "    \n",
    "    ps, rc ,f1, iou, acc = evaluate(subset = None) \n",
    "    precisions.append(ps.mean()) \n",
    "    recalls.append(rc.mean())\n",
    "    f1s.append(f1.mean())\n",
    "    ious.append(iou.mean())\n",
    "    accs.append(acc)\n",
    "    \n",
    "    \n"
   ]
  },
  {
   "cell_type": "code",
   "execution_count": null,
   "id": "c38e78c2-6bcf-457b-9d68-39eb5fd1c9ae",
   "metadata": {
    "execution": {
     "iopub.status.busy": "2024-04-28T18:04:05.175127Z",
     "iopub.status.idle": "2024-04-28T18:04:05.175617Z",
     "shell.execute_reply": "2024-04-28T18:04:05.175434Z"
    }
   },
   "outputs": [],
   "source": [
    "plt.figure(figsize = (30, 5))\n",
    "plt.subplot(1, 6, 1)\n",
    "plt.plot([0.1, 0.2, 0.3, 0.4, 0.5], precisions)\n",
    "plt.title('Precision')\n",
    "plt.subplot(1, 6, 2)\n",
    "plt.plot([0.1, 0.2, 0.3, 0.4, 0.5], recalls)\n",
    "plt.title('Recall')\n",
    "plt.subplot(1, 6, 3)\n",
    "plt.plot([0.1, 0.2, 0.3, 0.4, 0.5], f1s)\n",
    "plt.title('F1')\n",
    "plt.subplot(1, 6, 4)\n",
    "plt.plot([0.1, 0.2, 0.3, 0.4, 0.5], ious)\n",
    "plt.title('IoU')\n",
    "plt.subplot(1, 6, 5)\n",
    "plt.plot([0.1, 0.2, 0.3, 0.4, 0.5], accs)\n",
    "plt.title('Accuracy')\n",
    "\n",
    "plt.savefig('sampling_ratio.png')\n",
    "plt.show()\n",
    "    "
   ]
  },
  {
   "cell_type": "code",
   "execution_count": null,
   "id": "750bc129-07a4-4d3c-a473-973003031da9",
   "metadata": {
    "execution": {
     "iopub.status.busy": "2024-04-28T18:04:05.177170Z",
     "iopub.status.idle": "2024-04-28T18:04:05.177903Z",
     "shell.execute_reply": "2024-04-28T18:04:05.177595Z"
    }
   },
   "outputs": [],
   "source": [
    "#Tesing with different ball query radius\n",
    "\n",
    "#Testing with different sampling size: \n",
    "precisions = [] \n",
    "recalls = []\n",
    "accs = [] \n",
    "f1s = []\n",
    "ious = [] \n",
    "accs = []\n",
    "\n",
    "for r in tqdm([0.1, 0.15, 0.2, 0.25, 0.3, 0.35, 0.4], total = 7): \n",
    "    device = torch.device('cuda' if torch.cuda.is_available() else 'cpu')\n",
    "    model = create_model( ball_radius = [r , r*2 , r*2]).to(device)\n",
    "    checkpoint = torch.load('models/deep_relu.pt')\n",
    "    model.load_state_dict(checkpoint['model_state_dict'])\n",
    "    \n",
    "    ps, rc ,f1, iou, acc = evaluate(subset = None) \n",
    "    precisions.append(ps.mean()) \n",
    "    recalls.append(rc.mean())\n",
    "    f1s.append(f1.mean())\n",
    "    ious.append(iou.mean())\n",
    "    accs.append(acc)\n",
    "    \n",
    "    \n",
    "plt.figure(figsize = (30, 5))\n",
    "plt.subplot(1, 6, 1)\n",
    "plt.plot([0.1, 0.15, 0.2, 0.25, 0.3, 0.35, 0.4], precisions)\n",
    "plt.title('Precision')\n",
    "plt.subplot(1, 6, 2)\n",
    "plt.plot([0.1, 0.15, 0.2, 0.25, 0.3, 0.35, 0.4], recalls)\n",
    "plt.title('Recall')\n",
    "plt.subplot(1, 6, 3)\n",
    "plt.plot([0.1, 0.15, 0.2, 0.25, 0.3, 0.35, 0.4], f1s)\n",
    "plt.title('F1')\n",
    "plt.subplot(1, 6, 4)\n",
    "plt.plot([0.1, 0.15, 0.2, 0.25, 0.3, 0.35, 0.4], ious)\n",
    "plt.title('IoU')\n",
    "plt.subplot(1, 6, 5)\n",
    "plt.plot([0.1, 0.15, 0.2, 0.25, 0.3, 0.35, 0.4], accs)\n",
    "plt.title('Accuracy')\n",
    "plt.show()"
   ]
  },
  {
   "cell_type": "code",
   "execution_count": 99,
   "id": "2e3b1b54-4ade-420f-8e30-e2b8a60e0836",
   "metadata": {
    "execution": {
     "iopub.execute_input": "2024-04-29T15:43:41.735357Z",
     "iopub.status.busy": "2024-04-29T15:43:41.734699Z",
     "iopub.status.idle": "2024-04-29T15:51:16.192364Z",
     "shell.execute_reply": "2024-04-29T15:51:16.189835Z",
     "shell.execute_reply.started": "2024-04-29T15:43:41.735312Z"
    }
   },
   "outputs": [
    {
     "data": {
      "application/vnd.jupyter.widget-view+json": {
       "model_id": "00eba8efc245499c828e9b2ff6d73a3b",
       "version_major": 2,
       "version_minor": 0
      },
      "text/plain": [
       "  0%|          | 0/1225 [00:00<?, ?it/s]"
      ]
     },
     "metadata": {},
     "output_type": "display_data"
    },
    {
     "name": "stdout",
     "output_type": "stream",
     "text": [
      "Precision [0.         0.93089191 0.92598618 0.40477245 0.         0.\n",
      " 0.         0.         0.80529165]\n",
      "Recall [0.         0.94732674 0.87770628 0.08235453 0.         0.\n",
      " 0.         0.         0.88618789]\n",
      "F1 [0.         0.93903742 0.90120007 0.13686306 0.         0.\n",
      " 0.         0.         0.84380531]\n",
      "IoU [0.         0.88508062 0.82016758 0.0734584  0.         0.\n",
      " 0.         0.         0.72981248]\n",
      "Accuracy 0.8949914724316295\n"
     ]
    },
    {
     "data": {
      "image/png": "[encoded data removed]",
      "text/plain": [
       "<Figure size 432x288 with 2 Axes>"
      ]
     },
     "metadata": {
      "needs_background": "light"
     },
     "output_type": "display_data"
    }
   ],
   "source": [
    "#Using the best hyperparamter to test the result on all class\n",
    "best_r = 0.2\n",
    "best_ratio = 0.5\n",
    "\n",
    "#Get all las file for training \n",
    "TILES_SIZE = 15\n",
    "\n",
    "TRAIN_DIR = f\"dales_tiled/tiles_{TILES_SIZE}/train/\" \n",
    "TEST_DIR = f\"dales_tiled/tiles_{TILES_SIZE}/test/\" \n",
    "all_test_files  = os.listdir(osp.abspath(TEST_DIR))\n",
    "\n",
    "device = torch.device('cuda' if torch.cuda.is_available() else 'cpu')\n",
    "model = create_model(\n",
    "    sampling_ratio = [best_ratio]*3, \n",
    "    ball_radius = [best_r , best_r*2 , best_r*2],\n",
    "    act = 'relu' ).to(device)\n",
    "checkpoint = torch.load('models/deep_relu.pt')\n",
    "model.load_state_dict(checkpoint['model_state_dict'])\n",
    "cfs, ps, rc ,f1, iou, acc = evaluate(subset = None) \n",
    "\n",
    "print(f\"Precision {ps}\")\n",
    "print(f\"Recall {rc}\")\n",
    "print(f\"F1 {f1}\")\n",
    "print(f\"IoU {iou}\")\n",
    "print(f\"Accuracy {acc}\")"
   ]
  },
  {
   "cell_type": "code",
   "execution_count": 89,
   "id": "2ba507b2-a81b-4c17-b663-aba2bdda86bf",
   "metadata": {
    "execution": {
     "iopub.execute_input": "2024-04-29T14:59:40.510386Z",
     "iopub.status.busy": "2024-04-29T14:59:40.509760Z",
     "iopub.status.idle": "2024-04-29T14:59:40.520229Z",
     "shell.execute_reply": "2024-04-29T14:59:40.517931Z",
     "shell.execute_reply.started": "2024-04-29T14:59:40.510332Z"
    }
   },
   "outputs": [],
   "source": [
    "from sklearn.metrics import  ConfusionMatrixDisplay\n",
    "\n",
    "np.save(\"cfs\", cfs)"
   ]
  },
  {
   "cell_type": "code",
   "execution_count": 30,
   "id": "97e4060a-d940-4006-999c-4075976cdc03",
   "metadata": {
    "execution": {
     "iopub.execute_input": "2024-04-29T05:46:24.578533Z",
     "iopub.status.busy": "2024-04-29T05:46:24.578006Z",
     "iopub.status.idle": "2024-04-29T05:46:24.591895Z",
     "shell.execute_reply": "2024-04-29T05:46:24.589910Z",
     "shell.execute_reply.started": "2024-04-29T05:46:24.578492Z"
    }
   },
   "outputs": [],
   "source": [
    "def c2color(classification):\n",
    "# Define diffrent color for each class\n",
    "    color = np.zeros((len(classification), 3))\n",
    "    color[classification == 0] = [0, 0, 0]\n",
    "    color[classification == 1] = [0, 0, 1]\n",
    "    color[classification == 2] = [0, 1, 0]\n",
    "    color[classification == 3] = [1, 0, 1]\n",
    "    color[classification == 4] = [1, 1, 0]\n",
    "    color[classification == 5] = [0, 1, 1]\n",
    "    color[classification == 6] = [0, 1, 1]\n",
    "    color[classification == 7] = [1, 0.5, 0]\n",
    "    color[classification == 8] = [1, 0, 0]\n",
    "    return color"
   ]
  },
  {
   "cell_type": "code",
   "execution_count": 52,
   "id": "72ee8289-5ab1-4dd9-85e3-c22e3e3cf032",
   "metadata": {
    "execution": {
     "iopub.execute_input": "2024-04-29T06:17:06.203974Z",
     "iopub.status.busy": "2024-04-29T06:17:06.203381Z",
     "iopub.status.idle": "2024-04-29T06:17:06.245236Z",
     "shell.execute_reply": "2024-04-29T06:17:06.244083Z",
     "shell.execute_reply.started": "2024-04-29T06:17:06.203929Z"
    }
   },
   "outputs": [],
   "source": [
    "data = convertData(\"dales_tiled/tiles_15/train/5080_54435_100.las\", transform = False)\n",
    "pc = lp.read(\"dales_tiled/tiles_15/train/5080_54435_100.las\")"
   ]
  },
  {
   "cell_type": "code",
   "execution_count": 55,
   "id": "c356e7d5-3cf4-428f-a9a4-f67b0c63e4a8",
   "metadata": {
    "execution": {
     "iopub.execute_input": "2024-04-29T06:18:06.139035Z",
     "iopub.status.busy": "2024-04-29T06:18:06.138512Z",
     "iopub.status.idle": "2024-04-29T06:18:06.569045Z",
     "shell.execute_reply": "2024-04-29T06:18:06.567508Z",
     "shell.execute_reply.started": "2024-04-29T06:18:06.138993Z"
    }
   },
   "outputs": [
    {
     "name": "stdout",
     "output_type": "stream",
     "text": [
      "(10999, 8)\n"
     ]
    }
   ],
   "source": [
    "transform = T.Compose([\n",
    "        T.RandomJitter(0.01),\n",
    "        T.RandomRotate(15, axis=0),\n",
    "        T.RandomRotate(15, axis=1),\n",
    "        T.RandomRotate(15, axis=2)\n",
    "        ])\n",
    "pre_transform = T.NormalizeScale()\n",
    "\n",
    "#make preidciton\n",
    "\n",
    "data = data.to(device)\n",
    "ndata = data.clone().detach()\n",
    "ndata = transform( pre_transform(ndata))\n",
    "\n",
    "preds  = model(ndata).argmax(dim = -1).detach().cpu().numpy().reshape((-1,1))\n",
    "labels = data.y.detach().cpu().numpy().reshape((-1,1))\n",
    "coords  = np.vstack((pc.x, pc.y, pc.z)).T\n",
    "\n",
    "ncoords = ndata.pos.detach().cpu().numpy()\n",
    "\n",
    "data_np = np.concatenate([coords, ncoords, labels, preds], axis = 1)\n",
    "print(data_np.shape)"
   ]
  },
  {
   "cell_type": "code",
   "execution_count": 56,
   "id": "3ef917f2-aeed-4e3d-b34f-042bf6d2e6d0",
   "metadata": {
    "execution": {
     "iopub.execute_input": "2024-04-29T06:18:09.098640Z",
     "iopub.status.busy": "2024-04-29T06:18:09.098224Z",
     "iopub.status.idle": "2024-04-29T06:18:09.106345Z",
     "shell.execute_reply": "2024-04-29T06:18:09.105042Z",
     "shell.execute_reply.started": "2024-04-29T06:18:09.098607Z"
    }
   },
   "outputs": [
    {
     "name": "stdout",
     "output_type": "stream",
     "text": [
      "(array([1., 2., 3., 8.]), array([3895, 6669,    1,  434]))\n"
     ]
    }
   ],
   "source": [
    "print(np.unique(data_np[:,-1], return_counts = True))"
   ]
  },
  {
   "cell_type": "code",
   "execution_count": 57,
   "id": "562becee-10e7-4c0b-9ba5-32976b53e28a",
   "metadata": {
    "execution": {
     "iopub.execute_input": "2024-04-29T06:18:14.228742Z",
     "iopub.status.busy": "2024-04-29T06:18:14.228184Z",
     "iopub.status.idle": "2024-04-29T06:18:14.238316Z",
     "shell.execute_reply": "2024-04-29T06:18:14.235825Z",
     "shell.execute_reply.started": "2024-04-29T06:18:14.228696Z"
    }
   },
   "outputs": [
    {
     "name": "stdout",
     "output_type": "stream",
     "text": [
      "[[5.08048390e+05 5.44359044e+06 1.00430000e+02]\n",
      " [5.08048080e+05 5.44359051e+06 1.02980000e+02]\n",
      " [5.08047820e+05 5.44359057e+06 1.00330000e+02]\n",
      " ...\n",
      " [5.08061230e+05 5.44360436e+06 9.60900000e+01]\n",
      " [5.08061090e+05 5.44360471e+06 9.46800000e+01]\n",
      " [5.08061410e+05 5.44360358e+06 9.45500000e+01]]\n"
     ]
    }
   ],
   "source": [
    "print(data_np[:,:3])"
   ]
  },
  {
   "cell_type": "code",
   "execution_count": 58,
   "id": "29afadc4-b9dd-4a85-b3c3-5e6d5c814853",
   "metadata": {
    "execution": {
     "iopub.execute_input": "2024-04-29T06:18:19.180305Z",
     "iopub.status.busy": "2024-04-29T06:18:19.179710Z",
     "iopub.status.idle": "2024-04-29T06:18:19.190392Z",
     "shell.execute_reply": "2024-04-29T06:18:19.188515Z",
     "shell.execute_reply.started": "2024-04-29T06:18:19.180254Z"
    }
   },
   "outputs": [],
   "source": [
    "np.save(\"test_sample_1\", data_np) "
   ]
  },
  {
   "cell_type": "code",
   "execution_count": 59,
   "id": "13d0e5bc-3b46-467e-a106-e039f0e37d51",
   "metadata": {
    "execution": {
     "iopub.execute_input": "2024-04-29T06:29:30.036908Z",
     "iopub.status.busy": "2024-04-29T06:29:30.036405Z",
     "iopub.status.idle": "2024-04-29T06:29:30.947131Z",
     "shell.execute_reply": "2024-04-29T06:29:30.944835Z",
     "shell.execute_reply.started": "2024-04-29T06:29:30.036870Z"
    }
   },
   "outputs": [
    {
     "name": "stdout",
     "output_type": "stream",
     "text": [
      "(17238, 8)\n"
     ]
    }
   ],
   "source": [
    "data = convertData(\"dales_tiled/tiles_15/test/5080_54400_200.las\", transform = False)\n",
    "pc = lp.read(\"dales_tiled/tiles_15/test/5080_54400_200.las\")\n",
    "\n",
    "data = data.to(device)\n",
    "ndata = data.clone().detach()\n",
    "ndata = transform( pre_transform(ndata))\n",
    "\n",
    "preds  = model(ndata).argmax(dim = -1).detach().cpu().numpy().reshape((-1,1))\n",
    "labels = data.y.detach().cpu().numpy().reshape((-1,1))\n",
    "coords  = np.vstack((pc.x, pc.y, pc.z)).T\n",
    "\n",
    "ncoords = ndata.pos.detach().cpu().numpy()\n",
    "\n",
    "data_np = np.concatenate([coords, ncoords, labels, preds], axis = 1)\n",
    "print(data_np.shape)"
   ]
  },
  {
   "cell_type": "code",
   "execution_count": 60,
   "id": "5c6955c0-13d3-4b78-b8ac-f807b1c61535",
   "metadata": {
    "execution": {
     "iopub.execute_input": "2024-04-29T06:29:42.085853Z",
     "iopub.status.busy": "2024-04-29T06:29:42.085239Z",
     "iopub.status.idle": "2024-04-29T06:29:42.094964Z",
     "shell.execute_reply": "2024-04-29T06:29:42.093418Z",
     "shell.execute_reply.started": "2024-04-29T06:29:42.085798Z"
    }
   },
   "outputs": [
    {
     "name": "stdout",
     "output_type": "stream",
     "text": [
      "(array([1., 2., 8.]), array([ 1927, 13367,  1944]))\n"
     ]
    }
   ],
   "source": [
    "print(np.unique(data_np[:,-1], return_counts = True))"
   ]
  },
  {
   "cell_type": "code",
   "execution_count": 61,
   "id": "151fc6a8-03e6-4c23-ad53-e127a9912b1d",
   "metadata": {
    "execution": {
     "iopub.execute_input": "2024-04-29T06:30:06.858843Z",
     "iopub.status.busy": "2024-04-29T06:30:06.858468Z",
     "iopub.status.idle": "2024-04-29T06:30:06.869663Z",
     "shell.execute_reply": "2024-04-29T06:30:06.867952Z",
     "shell.execute_reply.started": "2024-04-29T06:30:06.858813Z"
    }
   },
   "outputs": [],
   "source": [
    "np.save(\"test_sample_1\", data_np) "
   ]
  },
  {
   "cell_type": "code",
   "execution_count": null,
   "id": "f369f327-c3a7-4c78-b0de-f963a649b481",
   "metadata": {},
   "outputs": [],
   "source": []
  }
 ],
 "metadata": {
  "kernelspec": {
   "display_name": "Python 3",
   "language": "python",
   "name": "python3"
  },
  "language_info": {
   "codemirror_mode": {
    "name": "ipython",
    "version": 3
   },
   "file_extension": ".py",
   "mimetype": "text/x-python",
   "name": "python",
   "nbconvert_exporter": "python",
   "pygments_lexer": "ipython3",
   "version": "3.8.10"
  }
 },
 "nbformat": 4,
 "nbformat_minor": 5
}
